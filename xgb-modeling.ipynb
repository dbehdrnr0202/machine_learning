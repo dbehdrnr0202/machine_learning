{
 "cells": [
  {
   "cell_type": "markdown",
   "id": "2cdb0b8d",
   "metadata": {
    "papermill": {
     "duration": 0.023935,
     "end_time": "2022-03-05T10:57:47.541546",
     "exception": false,
     "start_time": "2022-03-05T10:57:47.517611",
     "status": "completed"
    },
    "tags": []
   },
   "source": [
    "# 8.5 안전 운전자 예측 경진대회 성능 개선 II : XGBoost 모델"
   ]
  },
  {
   "cell_type": "code",
   "execution_count": 1,
   "id": "b229b802",
   "metadata": {
    "execution": {
     "iopub.execute_input": "2022-03-05T10:57:47.638808Z",
     "iopub.status.busy": "2022-03-05T10:57:47.638218Z",
     "iopub.status.idle": "2022-03-05T10:57:57.498537Z",
     "shell.execute_reply": "2022-03-05T10:57:57.497796Z"
    },
    "papermill": {
     "duration": 9.890709,
     "end_time": "2022-03-05T10:57:57.498692",
     "exception": false,
     "start_time": "2022-03-05T10:57:47.607983",
     "status": "completed"
    },
    "tags": []
   },
   "outputs": [],
   "source": [
    "import pandas as pd\n",
    "\n",
    "# 데이터 경로\n",
    "data_path = 'data/'\n",
    "\n",
    "train = pd.read_csv(data_path + 'train.csv', index_col='id')\n",
    "test = pd.read_csv(data_path + 'test.csv', index_col='id')\n",
    "submission = pd.read_csv(data_path + 'sample_submission.csv', index_col='id')"
   ]
  },
  {
   "cell_type": "markdown",
   "id": "0797a06c",
   "metadata": {
    "papermill": {
     "duration": 0.022022,
     "end_time": "2022-03-05T10:57:57.543274",
     "exception": false,
     "start_time": "2022-03-05T10:57:57.521252",
     "status": "completed"
    },
    "tags": []
   },
   "source": [
    "## 8.5.1 피처 엔지니어링"
   ]
  },
  {
   "cell_type": "markdown",
   "id": "198eb24f",
   "metadata": {
    "papermill": {
     "duration": 0.023881,
     "end_time": "2022-03-05T10:57:57.589616",
     "exception": false,
     "start_time": "2022-03-05T10:57:57.565735",
     "status": "completed"
    },
    "tags": []
   },
   "source": [
    "### 데이터 합치기"
   ]
  },
  {
   "cell_type": "code",
   "execution_count": 2,
   "id": "63e1b101",
   "metadata": {
    "execution": {
     "iopub.execute_input": "2022-03-05T10:57:57.644420Z",
     "iopub.status.busy": "2022-03-05T10:57:57.642794Z",
     "iopub.status.idle": "2022-03-05T10:57:58.830172Z",
     "shell.execute_reply": "2022-03-05T10:57:58.829652Z"
    },
    "papermill": {
     "duration": 1.218071,
     "end_time": "2022-03-05T10:57:58.830319",
     "exception": false,
     "start_time": "2022-03-05T10:57:57.612248",
     "status": "completed"
    },
    "tags": []
   },
   "outputs": [],
   "source": [
    "all_data = pd.concat([train, test], ignore_index=True)\n",
    "all_data = all_data.drop('target', axis=1) # 타깃값 제거\n",
    "\n",
    "all_features = all_data.columns # 전체 피처"
   ]
  },
  {
   "cell_type": "markdown",
   "id": "5d9aa359",
   "metadata": {
    "papermill": {
     "duration": 0.022066,
     "end_time": "2022-03-05T10:57:58.875560",
     "exception": false,
     "start_time": "2022-03-05T10:57:58.853494",
     "status": "completed"
    },
    "tags": []
   },
   "source": [
    "### 명목형 피처 원-핫 인코딩"
   ]
  },
  {
   "cell_type": "code",
   "execution_count": 3,
   "id": "21fa35fb",
   "metadata": {
    "execution": {
     "iopub.execute_input": "2022-03-05T10:57:58.924321Z",
     "iopub.status.busy": "2022-03-05T10:57:58.923563Z",
     "iopub.status.idle": "2022-03-05T10:58:01.567961Z",
     "shell.execute_reply": "2022-03-05T10:58:01.567342Z"
    },
    "papermill": {
     "duration": 2.670906,
     "end_time": "2022-03-05T10:58:01.568108",
     "exception": false,
     "start_time": "2022-03-05T10:57:58.897202",
     "status": "completed"
    },
    "tags": []
   },
   "outputs": [],
   "source": [
    "from sklearn.preprocessing import OneHotEncoder\n",
    "\n",
    "# 명목형 피처\n",
    "cat_features = [feature for feature in all_features if 'cat' in feature]\n",
    "\n",
    "# 원-핫 인코딩 적용\n",
    "onehot_encoder = OneHotEncoder()\n",
    "encoded_cat_matrix = onehot_encoder.fit_transform(all_data[cat_features]) "
   ]
  },
  {
   "cell_type": "markdown",
   "id": "e7a09fa5",
   "metadata": {
    "papermill": {
     "duration": 0.022104,
     "end_time": "2022-03-05T10:58:01.613512",
     "exception": false,
     "start_time": "2022-03-05T10:58:01.591408",
     "status": "completed"
    },
    "tags": []
   },
   "source": [
    "### 파생 피처 추가"
   ]
  },
  {
   "cell_type": "code",
   "execution_count": 4,
   "id": "ef13baf4",
   "metadata": {
    "execution": {
     "iopub.execute_input": "2022-03-05T10:58:01.669386Z",
     "iopub.status.busy": "2022-03-05T10:58:01.668433Z",
     "iopub.status.idle": "2022-03-05T10:58:01.852410Z",
     "shell.execute_reply": "2022-03-05T10:58:01.851807Z"
    },
    "papermill": {
     "duration": 0.216864,
     "end_time": "2022-03-05T10:58:01.852547",
     "exception": false,
     "start_time": "2022-03-05T10:58:01.635683",
     "status": "completed"
    },
    "tags": []
   },
   "outputs": [],
   "source": [
    "# '데이터 하나당 결측값 개수'를 파생 피처로 추가\n",
    "all_data['num_missing'] = (all_data==-1).sum(axis=1)"
   ]
  },
  {
   "cell_type": "code",
   "execution_count": 5,
   "id": "5ce16a54",
   "metadata": {
    "execution": {
     "iopub.execute_input": "2022-03-05T10:58:01.901779Z",
     "iopub.status.busy": "2022-03-05T10:58:01.900052Z",
     "iopub.status.idle": "2022-03-05T10:58:01.903368Z",
     "shell.execute_reply": "2022-03-05T10:58:01.903951Z"
    },
    "papermill": {
     "duration": 0.028634,
     "end_time": "2022-03-05T10:58:01.904095",
     "exception": false,
     "start_time": "2022-03-05T10:58:01.875461",
     "status": "completed"
    },
    "tags": []
   },
   "outputs": [],
   "source": [
    "# 명목형 피처, calc 분류 피처를 제외한 피처\n",
    "remaining_features = [feature for feature in all_features\n",
    "                      if ('cat' not in feature and 'calc' not in feature)] \n",
    "# num_missing을 remaining_features에 추가\n",
    "remaining_features.append('num_missing')"
   ]
  },
  {
   "cell_type": "code",
   "execution_count": 6,
   "id": "a309c799",
   "metadata": {
    "execution": {
     "iopub.execute_input": "2022-03-05T10:58:01.950270Z",
     "iopub.status.busy": "2022-03-05T10:58:01.949703Z",
     "iopub.status.idle": "2022-03-05T10:58:42.323549Z",
     "shell.execute_reply": "2022-03-05T10:58:42.324071Z"
    },
    "papermill": {
     "duration": 40.398425,
     "end_time": "2022-03-05T10:58:42.324251",
     "exception": false,
     "start_time": "2022-03-05T10:58:01.925826",
     "status": "completed"
    },
    "tags": []
   },
   "outputs": [],
   "source": [
    "# 분류가 ind인 피처\n",
    "ind_features = [feature for feature in all_features if 'ind' in feature]\n",
    "\n",
    "is_first_feature = True\n",
    "for ind_feature in ind_features:\n",
    "    if is_first_feature:\n",
    "        all_data['mix_ind'] = all_data[ind_feature].astype(str) + '_'\n",
    "        is_first_feature = False\n",
    "    else:\n",
    "        all_data['mix_ind'] += all_data[ind_feature].astype(str) + '_'"
   ]
  },
  {
   "cell_type": "code",
   "execution_count": 7,
   "id": "9a58f6ed",
   "metadata": {
    "execution": {
     "iopub.execute_input": "2022-03-05T10:58:42.380273Z",
     "iopub.status.busy": "2022-03-05T10:58:42.379508Z",
     "iopub.status.idle": "2022-03-05T10:58:42.382950Z",
     "shell.execute_reply": "2022-03-05T10:58:42.383412Z"
    },
    "papermill": {
     "duration": 0.036157,
     "end_time": "2022-03-05T10:58:42.383560",
     "exception": false,
     "start_time": "2022-03-05T10:58:42.347403",
     "status": "completed"
    },
    "tags": []
   },
   "outputs": [
    {
     "data": {
      "text/plain": [
       "0          2_2_5_1_0_0_1_0_0_0_0_0_0_0_11_0_1_0_\n",
       "1           1_1_7_0_0_0_0_1_0_0_0_0_0_0_3_0_0_1_\n",
       "2          5_4_9_1_0_0_0_1_0_0_0_0_0_0_12_1_0_0_\n",
       "3           0_1_2_0_0_1_0_0_0_0_0_0_0_0_8_1_0_0_\n",
       "4           0_2_0_1_0_1_0_0_0_0_0_0_0_0_9_1_0_0_\n",
       "                           ...                  \n",
       "1488023     0_1_6_0_0_0_1_0_0_0_0_0_0_0_2_0_0_1_\n",
       "1488024    5_3_5_1_0_0_0_1_0_0_0_0_0_0_11_1_0_0_\n",
       "1488025     0_1_5_0_0_1_0_0_0_0_0_0_0_0_5_0_0_1_\n",
       "1488026    6_1_5_1_0_0_0_0_1_0_0_0_0_0_13_1_0_0_\n",
       "1488027    7_1_4_1_0_0_0_0_1_0_0_0_0_0_12_1_0_0_\n",
       "Name: mix_ind, Length: 1488028, dtype: object"
      ]
     },
     "execution_count": 7,
     "metadata": {},
     "output_type": "execute_result"
    }
   ],
   "source": [
    "all_data['mix_ind']"
   ]
  },
  {
   "cell_type": "code",
   "execution_count": 8,
   "id": "546130b4",
   "metadata": {
    "execution": {
     "iopub.execute_input": "2022-03-05T10:58:42.444738Z",
     "iopub.status.busy": "2022-03-05T10:58:42.444119Z",
     "iopub.status.idle": "2022-03-05T10:58:56.233142Z",
     "shell.execute_reply": "2022-03-05T10:58:56.233712Z"
    },
    "papermill": {
     "duration": 13.826707,
     "end_time": "2022-03-05T10:58:56.234081",
     "exception": false,
     "start_time": "2022-03-05T10:58:42.407374",
     "status": "completed"
    },
    "tags": []
   },
   "outputs": [],
   "source": [
    "cat_count_features = []\n",
    "for feature in cat_features+['mix_ind']:\n",
    "    val_counts_dict = all_data[feature].value_counts().to_dict()\n",
    "    all_data[f'{feature}_count'] = all_data[feature].apply(lambda x: \n",
    "                                                           val_counts_dict[x])\n",
    "    cat_count_features.append(f'{feature}_count')"
   ]
  },
  {
   "cell_type": "code",
   "execution_count": 9,
   "id": "16745a44",
   "metadata": {
    "execution": {
     "iopub.execute_input": "2022-03-05T10:58:56.289185Z",
     "iopub.status.busy": "2022-03-05T10:58:56.288178Z",
     "iopub.status.idle": "2022-03-05T10:58:56.292155Z",
     "shell.execute_reply": "2022-03-05T10:58:56.291658Z"
    },
    "papermill": {
     "duration": 0.033717,
     "end_time": "2022-03-05T10:58:56.292291",
     "exception": false,
     "start_time": "2022-03-05T10:58:56.258574",
     "status": "completed"
    },
    "tags": []
   },
   "outputs": [
    {
     "data": {
      "text/plain": [
       "['ps_ind_02_cat_count',\n",
       " 'ps_ind_04_cat_count',\n",
       " 'ps_ind_05_cat_count',\n",
       " 'ps_car_01_cat_count',\n",
       " 'ps_car_02_cat_count',\n",
       " 'ps_car_03_cat_count',\n",
       " 'ps_car_04_cat_count',\n",
       " 'ps_car_05_cat_count',\n",
       " 'ps_car_06_cat_count',\n",
       " 'ps_car_07_cat_count',\n",
       " 'ps_car_08_cat_count',\n",
       " 'ps_car_09_cat_count',\n",
       " 'ps_car_10_cat_count',\n",
       " 'ps_car_11_cat_count',\n",
       " 'mix_ind_count']"
      ]
     },
     "execution_count": 9,
     "metadata": {},
     "output_type": "execute_result"
    }
   ],
   "source": [
    "cat_count_features"
   ]
  },
  {
   "cell_type": "markdown",
   "id": "001a778f",
   "metadata": {
    "papermill": {
     "duration": 0.023923,
     "end_time": "2022-03-05T10:58:56.341029",
     "exception": false,
     "start_time": "2022-03-05T10:58:56.317106",
     "status": "completed"
    },
    "tags": []
   },
   "source": [
    "### 필요 없는 피처 제거"
   ]
  },
  {
   "cell_type": "code",
   "execution_count": 10,
   "id": "1a185db8",
   "metadata": {
    "execution": {
     "iopub.execute_input": "2022-03-05T10:58:56.395818Z",
     "iopub.status.busy": "2022-03-05T10:58:56.392177Z",
     "iopub.status.idle": "2022-03-05T10:59:01.690082Z",
     "shell.execute_reply": "2022-03-05T10:59:01.689333Z"
    },
    "papermill": {
     "duration": 5.32504,
     "end_time": "2022-03-05T10:59:01.690228",
     "exception": false,
     "start_time": "2022-03-05T10:58:56.365188",
     "status": "completed"
    },
    "tags": []
   },
   "outputs": [],
   "source": [
    "from scipy import sparse\n",
    "\n",
    "# 필요 없는 피처들\n",
    "drop_features = ['ps_ind_14', 'ps_ind_10_bin', 'ps_ind_11_bin', \n",
    "                 'ps_ind_12_bin', 'ps_ind_13_bin', 'ps_car_14']\n",
    "\n",
    "# remaining_features, cat_count_features에서 drop_features를 제거한 데이터\n",
    "all_data_remaining = all_data[remaining_features+cat_count_features].drop(drop_features, axis=1)\n",
    "\n",
    "# 데이터 합치기\n",
    "all_data_sprs = sparse.hstack([sparse.csr_matrix(all_data_remaining),\n",
    "                               encoded_cat_matrix],\n",
    "                              format='csr')"
   ]
  },
  {
   "cell_type": "markdown",
   "id": "a9d6b3d9",
   "metadata": {
    "papermill": {
     "duration": 0.024504,
     "end_time": "2022-03-05T10:59:01.740197",
     "exception": false,
     "start_time": "2022-03-05T10:59:01.715693",
     "status": "completed"
    },
    "tags": []
   },
   "source": [
    "### 데이터 나누기"
   ]
  },
  {
   "cell_type": "code",
   "execution_count": 11,
   "id": "7c7096ed",
   "metadata": {
    "execution": {
     "iopub.execute_input": "2022-03-05T10:59:01.792730Z",
     "iopub.status.busy": "2022-03-05T10:59:01.792116Z",
     "iopub.status.idle": "2022-03-05T10:59:02.707569Z",
     "shell.execute_reply": "2022-03-05T10:59:02.706920Z"
    },
    "papermill": {
     "duration": 0.943944,
     "end_time": "2022-03-05T10:59:02.707715",
     "exception": false,
     "start_time": "2022-03-05T10:59:01.763771",
     "status": "completed"
    },
    "tags": []
   },
   "outputs": [],
   "source": [
    "num_train = len(train) # 훈련 데이터 개수\n",
    "\n",
    "# 훈련 데이터와 테스트 데이터 나누기\n",
    "X = all_data_sprs[:num_train]\n",
    "X_test = all_data_sprs[num_train:]\n",
    "\n",
    "y = train['target'].values"
   ]
  },
  {
   "cell_type": "markdown",
   "id": "7ebb53c9",
   "metadata": {
    "papermill": {
     "duration": 0.024075,
     "end_time": "2022-03-05T10:59:02.756361",
     "exception": false,
     "start_time": "2022-03-05T10:59:02.732286",
     "status": "completed"
    },
    "tags": []
   },
   "source": [
    "### 정규화 지니계수 계산 함수"
   ]
  },
  {
   "cell_type": "code",
   "execution_count": 12,
   "id": "e7f7c3ac",
   "metadata": {
    "execution": {
     "iopub.execute_input": "2022-03-05T10:59:02.812018Z",
     "iopub.status.busy": "2022-03-05T10:59:02.811384Z",
     "iopub.status.idle": "2022-03-05T10:59:02.813417Z",
     "shell.execute_reply": "2022-03-05T10:59:02.813838Z"
    },
    "papermill": {
     "duration": 0.033366,
     "end_time": "2022-03-05T10:59:02.814016",
     "exception": false,
     "start_time": "2022-03-05T10:59:02.780650",
     "status": "completed"
    },
    "tags": []
   },
   "outputs": [],
   "source": [
    "import numpy as np\n",
    "\n",
    "def eval_gini(y_true, y_pred):\n",
    "    # 실제값과 예측값의 크기가 같은지 확인 (값이 다르면 오류 발생)\n",
    "    assert y_true.shape == y_pred.shape\n",
    "\n",
    "    n_samples = y_true.shape[0]                      # 데이터 개수\n",
    "    L_mid = np.linspace(1 / n_samples, 1, n_samples) # 대각선 값\n",
    "\n",
    "    # 1) 예측값에 대한 지니계수\n",
    "    pred_order = y_true[y_pred.argsort()] # y_pred 크기순으로 y_true 값 정렬\n",
    "    L_pred = np.cumsum(pred_order) / np.sum(pred_order) # 로렌츠 곡선\n",
    "    G_pred = np.sum(L_mid - L_pred)       # 예측 값에 대한 지니계수\n",
    "\n",
    "    # 2) 예측이 완벽할 때 지니계수\n",
    "    true_order = y_true[y_true.argsort()] # y_true 크기순으로 y_true 값 정렬\n",
    "    L_true = np.cumsum(true_order) / np.sum(true_order) # 로렌츠 곡선\n",
    "    G_true = np.sum(L_mid - L_true)       # 예측이 완벽할 때 지니계수\n",
    "\n",
    "    # 정규화된 지니계수\n",
    "    return G_pred / G_true"
   ]
  },
  {
   "cell_type": "code",
   "execution_count": 13,
   "id": "5558b60d",
   "metadata": {
    "execution": {
     "iopub.execute_input": "2022-03-05T10:59:02.866723Z",
     "iopub.status.busy": "2022-03-05T10:59:02.866119Z",
     "iopub.status.idle": "2022-03-05T10:59:02.868170Z",
     "shell.execute_reply": "2022-03-05T10:59:02.868757Z"
    },
    "papermill": {
     "duration": 0.030492,
     "end_time": "2022-03-05T10:59:02.868919",
     "exception": false,
     "start_time": "2022-03-05T10:59:02.838427",
     "status": "completed"
    },
    "tags": []
   },
   "outputs": [],
   "source": [
    "# XGBoost용 gini() 함수\n",
    "def gini(preds, dtrain):\n",
    "    labels = dtrain.get_label()\n",
    "    return 'gini', eval_gini(labels, preds)"
   ]
  },
  {
   "cell_type": "markdown",
   "id": "d5565818",
   "metadata": {
    "papermill": {
     "duration": 0.023821,
     "end_time": "2022-03-05T10:59:02.917439",
     "exception": false,
     "start_time": "2022-03-05T10:59:02.893618",
     "status": "completed"
    },
    "tags": []
   },
   "source": [
    "## 8.5.2 하이퍼파라미터 최적화"
   ]
  },
  {
   "cell_type": "markdown",
   "id": "b0f7ea75",
   "metadata": {
    "papermill": {
     "duration": 0.023869,
     "end_time": "2022-03-05T10:59:02.964946",
     "exception": false,
     "start_time": "2022-03-05T10:59:02.941077",
     "status": "completed"
    },
    "tags": []
   },
   "source": [
    "### 데이터셋 준비"
   ]
  },
  {
   "cell_type": "code",
   "execution_count": 14,
   "id": "1359d410",
   "metadata": {
    "execution": {
     "iopub.execute_input": "2022-03-05T10:59:03.018997Z",
     "iopub.status.busy": "2022-03-05T10:59:03.018323Z",
     "iopub.status.idle": "2022-03-05T10:59:03.740754Z",
     "shell.execute_reply": "2022-03-05T10:59:03.741406Z"
    },
    "papermill": {
     "duration": 0.752603,
     "end_time": "2022-03-05T10:59:03.741604",
     "exception": false,
     "start_time": "2022-03-05T10:59:02.989001",
     "status": "completed"
    },
    "tags": []
   },
   "outputs": [],
   "source": [
    "import xgboost as xgb\n",
    "from sklearn.model_selection import train_test_split\n",
    "\n",
    "# 8:2 비율로 훈련 데이터, 검증 데이터 분리 (베이지안 최적화 수행용)\n",
    "X_train, X_valid, y_train, y_valid = train_test_split(X, y, \n",
    "                                                      test_size=0.2, \n",
    "                                                      random_state=0)\n",
    "# 베이지안 최적화용 데이터셋\n",
    "bayes_dtrain = xgb.DMatrix(X_train, y_train)\n",
    "bayes_dvalid = xgb.DMatrix(X_valid, y_valid)"
   ]
  },
  {
   "cell_type": "markdown",
   "id": "f6eaaa6d",
   "metadata": {
    "papermill": {
     "duration": 0.024159,
     "end_time": "2022-03-05T10:59:03.792746",
     "exception": false,
     "start_time": "2022-03-05T10:59:03.768587",
     "status": "completed"
    },
    "tags": []
   },
   "source": [
    "### 하이퍼파라미터 범위 설정"
   ]
  },
  {
   "cell_type": "code",
   "execution_count": 15,
   "id": "14ec7969",
   "metadata": {
    "execution": {
     "iopub.execute_input": "2022-03-05T10:59:03.850194Z",
     "iopub.status.busy": "2022-03-05T10:59:03.849161Z",
     "iopub.status.idle": "2022-03-05T10:59:03.851116Z",
     "shell.execute_reply": "2022-03-05T10:59:03.851677Z"
    },
    "papermill": {
     "duration": 0.034666,
     "end_time": "2022-03-05T10:59:03.851823",
     "exception": false,
     "start_time": "2022-03-05T10:59:03.817157",
     "status": "completed"
    },
    "tags": []
   },
   "outputs": [],
   "source": [
    "# 베이지안 최적화를 위한 하이퍼파라미터 범위\n",
    "param_bounds = {'max_depth': (4, 8),\n",
    "                'subsample': (0.6, 0.9),\n",
    "                'colsample_bytree': (0.7, 1.0),\n",
    "                'min_child_weight': (5, 7),\n",
    "                'gamma': (8, 11),\n",
    "                'reg_alpha': (7, 9),\n",
    "                'reg_lambda': (1.1, 1.5),\n",
    "                'scale_pos_weight': (1.4, 1.6)}\n",
    "\n",
    "# 값이 고정된 하이퍼파라미터\n",
    "fixed_params = {'objective': 'binary:logistic',\n",
    "                'learning_rate': 0.02,\n",
    "                'random_state': 1991}"
   ]
  },
  {
   "cell_type": "markdown",
   "id": "bfa5f4bf",
   "metadata": {
    "papermill": {
     "duration": 0.024709,
     "end_time": "2022-03-05T10:59:03.901200",
     "exception": false,
     "start_time": "2022-03-05T10:59:03.876491",
     "status": "completed"
    },
    "tags": []
   },
   "source": [
    "### (베이지안 최적화용) 평가지표 계산 함수 작성"
   ]
  },
  {
   "cell_type": "code",
   "execution_count": 16,
   "id": "22a2c04b",
   "metadata": {
    "execution": {
     "iopub.execute_input": "2022-03-05T10:59:03.953586Z",
     "iopub.status.busy": "2022-03-05T10:59:03.953012Z",
     "iopub.status.idle": "2022-03-05T10:59:03.960806Z",
     "shell.execute_reply": "2022-03-05T10:59:03.961346Z"
    },
    "papermill": {
     "duration": 0.035369,
     "end_time": "2022-03-05T10:59:03.961499",
     "exception": false,
     "start_time": "2022-03-05T10:59:03.926130",
     "status": "completed"
    },
    "tags": []
   },
   "outputs": [],
   "source": [
    "def eval_function(max_depth, subsample, colsample_bytree, min_child_weight,\n",
    "                 reg_alpha, gamma, reg_lambda, scale_pos_weight):\n",
    "    '''최적화하려는 평가지표(지니계수) 계산 함수'''\n",
    "    # 베이지안 최적화를 수행할 하이퍼파라미터\n",
    "    params = {'max_depth': int(round(max_depth)),\n",
    "              'subsample': subsample,\n",
    "              'colsample_bytree': colsample_bytree,\n",
    "              'min_child_weight': min_child_weight,\n",
    "              'gamma': gamma,\n",
    "              'reg_alpha':reg_alpha,\n",
    "              'reg_lambda': reg_lambda,\n",
    "              'scale_pos_weight': scale_pos_weight}\n",
    "    # 값이 고정된 하이퍼파라미터도 추가\n",
    "    params.update(fixed_params)\n",
    "    \n",
    "    print('하이퍼파라미터 :', params)    \n",
    "        \n",
    "    # XGBoost 모델 훈련\n",
    "    xgb_model = xgb.train(params=params, \n",
    "                          dtrain=bayes_dtrain,\n",
    "                          num_boost_round=2000,\n",
    "                          evals=[(bayes_dvalid, 'bayes_dvalid')],\n",
    "                          maximize=True,\n",
    "                          feval=gini,\n",
    "                          early_stopping_rounds=200,\n",
    "                          verbose_eval=False)\n",
    "                           \n",
    "    best_iter = xgb_model.best_iteration # 최적 반복 횟수\n",
    "    # 검증 데이터로 예측 수행\n",
    "    preds = xgb_model.predict(bayes_dvalid, \n",
    "                              iteration_range=(0, best_iter))\n",
    "    # 지니계수 계산\n",
    "    gini_score = eval_gini(y_valid, preds)\n",
    "    print(f'지니계수 : {gini_score}\\n')\n",
    "    \n",
    "    return gini_score"
   ]
  },
  {
   "cell_type": "markdown",
   "id": "1134c40e",
   "metadata": {
    "papermill": {
     "duration": 0.024424,
     "end_time": "2022-03-05T10:59:04.010852",
     "exception": false,
     "start_time": "2022-03-05T10:59:03.986428",
     "status": "completed"
    },
    "tags": []
   },
   "source": [
    "### 최적화 수행"
   ]
  },
  {
   "cell_type": "code",
   "execution_count": 17,
   "id": "e2122576",
   "metadata": {
    "execution": {
     "iopub.execute_input": "2022-03-05T10:59:04.062769Z",
     "iopub.status.busy": "2022-03-05T10:59:04.062160Z",
     "iopub.status.idle": "2022-03-05T13:11:19.335096Z",
     "shell.execute_reply": "2022-03-05T13:11:19.335654Z"
    },
    "papermill": {
     "duration": 7935.300698,
     "end_time": "2022-03-05T13:11:19.335930",
     "exception": false,
     "start_time": "2022-03-05T10:59:04.035232",
     "status": "completed"
    },
    "tags": []
   },
   "outputs": [
    {
     "name": "stdout",
     "output_type": "stream",
     "text": [
      "|   iter    |  target   | colsam... |   gamma   | max_depth | min_ch... | reg_alpha | reg_la... | scale_... | subsample |\n",
      "-------------------------------------------------------------------------------------------------------------------------\n",
      "하이퍼파라미터 : {'max_depth': 6, 'subsample': 0.867531900234624, 'colsample_bytree': 0.8646440511781974, 'min_child_weight': 6.0897663659937935, 'gamma': 10.14556809911726, 'reg_alpha': 7.84730959867781, 'reg_lambda': 1.3583576452266626, 'scale_pos_weight': 1.4875174422525386, 'objective': 'binary:logistic', 'learning_rate': 0.02, 'random_state': 1991}\n"
     ]
    },
    {
     "name": "stderr",
     "output_type": "stream",
     "text": [
      "c:\\Users\\Hi\\anaconda3\\envs\\tf_python_310\\lib\\site-packages\\xgboost\\training.py:38: UserWarning: `feval` is deprecated, use `custom_metric` instead.  They have different behavior when custom objective is also used.See https://xgboost.readthedocs.io/en/latest/tutorials/custom_metric_obj.html for details on the `custom_metric`.\n",
      "  warnings.warn(\n"
     ]
    },
    {
     "name": "stdout",
     "output_type": "stream",
     "text": [
      "지니계수 : 0.2770918995329271\n",
      "\n",
      "| \u001b[0m1        \u001b[0m | \u001b[0m0.2771   \u001b[0m | \u001b[0m0.8646   \u001b[0m | \u001b[0m10.15    \u001b[0m | \u001b[0m6.411    \u001b[0m | \u001b[0m6.09     \u001b[0m | \u001b[0m7.847    \u001b[0m | \u001b[0m1.358    \u001b[0m | \u001b[0m1.488    \u001b[0m | \u001b[0m0.8675   \u001b[0m |\n",
      "하이퍼파라미터 : {'max_depth': 7, 'subsample': 0.6261387899104622, 'colsample_bytree': 0.9890988281503088, 'min_child_weight': 6.0577898395058085, 'gamma': 9.150324556477333, 'reg_alpha': 8.136089122187865, 'reg_lambda': 1.4702386553170643, 'scale_pos_weight': 1.4142072116395774, 'objective': 'binary:logistic', 'learning_rate': 0.02, 'random_state': 1991}\n",
      "지니계수 : 0.2785348596472599\n",
      "\n",
      "| \u001b[95m2        \u001b[0m | \u001b[95m0.2785   \u001b[0m | \u001b[95m0.9891   \u001b[0m | \u001b[95m9.15     \u001b[0m | \u001b[95m7.167    \u001b[0m | \u001b[95m6.058    \u001b[0m | \u001b[95m8.136    \u001b[0m | \u001b[95m1.47     \u001b[0m | \u001b[95m1.414    \u001b[0m | \u001b[95m0.6261   \u001b[0m |\n",
      "하이퍼파라미터 : {'max_depth': 7, 'subsample': 0.8341587528859367, 'colsample_bytree': 0.7060655192320977, 'min_child_weight': 6.7400242964936385, 'gamma': 10.497859536643814, 'reg_alpha': 8.957236684465528, 'reg_lambda': 1.4196634256866894, 'scale_pos_weight': 1.4922958724505864, 'objective': 'binary:logistic', 'learning_rate': 0.02, 'random_state': 1991}\n",
      "지니계수 : 0.2763707045490492\n",
      "\n",
      "| \u001b[0m3        \u001b[0m | \u001b[0m0.2764   \u001b[0m | \u001b[0m0.7061   \u001b[0m | \u001b[0m10.5     \u001b[0m | \u001b[0m7.113    \u001b[0m | \u001b[0m6.74     \u001b[0m | \u001b[0m8.957    \u001b[0m | \u001b[0m1.42     \u001b[0m | \u001b[0m1.492    \u001b[0m | \u001b[0m0.8342   \u001b[0m |\n",
      "하이퍼파라미터 : {'max_depth': 7, 'subsample': 0.7001630536555632, 'colsample_bytree': 0.8843124587484356, 'min_child_weight': 6.494091293383359, 'gamma': 10.452246227672624, 'reg_alpha': 8.551838810159788, 'reg_lambda': 1.3814765995549108, 'scale_pos_weight': 1.423280772455086, 'objective': 'binary:logistic', 'learning_rate': 0.02, 'random_state': 1991}\n"
     ]
    },
    {
     "name": "stderr",
     "output_type": "stream",
     "text": [
      "c:\\Users\\Hi\\anaconda3\\envs\\tf_python_310\\lib\\site-packages\\xgboost\\training.py:38: UserWarning: `feval` is deprecated, use `custom_metric` instead.  They have different behavior when custom objective is also used.See https://xgboost.readthedocs.io/en/latest/tutorials/custom_metric_obj.html for details on the `custom_metric`.\n",
      "  warnings.warn(\n"
     ]
    },
    {
     "name": "stdout",
     "output_type": "stream",
     "text": [
      "지니계수 : 0.27763413318913566\n",
      "\n",
      "| \u001b[0m4        \u001b[0m | \u001b[0m0.2776   \u001b[0m | \u001b[0m0.8843   \u001b[0m | \u001b[0m10.45    \u001b[0m | \u001b[0m6.838    \u001b[0m | \u001b[0m6.494    \u001b[0m | \u001b[0m8.552    \u001b[0m | \u001b[0m1.381    \u001b[0m | \u001b[0m1.423    \u001b[0m | \u001b[0m0.7002   \u001b[0m |\n",
      "하이퍼파라미터 : {'max_depth': 7, 'subsample': 0.8535233675350644, 'colsample_bytree': 0.92975858050776, 'min_child_weight': 6.249564429359247, 'gamma': 9.95563546750357, 'reg_alpha': 8.411512219837842, 'reg_lambda': 1.424460008293778, 'scale_pos_weight': 1.5416807226581535, 'objective': 'binary:logistic', 'learning_rate': 0.02, 'random_state': 1991}\n"
     ]
    },
    {
     "name": "stderr",
     "output_type": "stream",
     "text": [
      "c:\\Users\\Hi\\anaconda3\\envs\\tf_python_310\\lib\\site-packages\\xgboost\\training.py:38: UserWarning: `feval` is deprecated, use `custom_metric` instead.  They have different behavior when custom objective is also used.See https://xgboost.readthedocs.io/en/latest/tutorials/custom_metric_obj.html for details on the `custom_metric`.\n",
      "  warnings.warn(\n"
     ]
    },
    {
     "name": "stdout",
     "output_type": "stream",
     "text": [
      "지니계수 : 0.27812576532574423\n",
      "\n",
      "| \u001b[0m5        \u001b[0m | \u001b[0m0.2781   \u001b[0m | \u001b[0m0.9298   \u001b[0m | \u001b[0m9.956    \u001b[0m | \u001b[0m6.809    \u001b[0m | \u001b[0m6.25     \u001b[0m | \u001b[0m8.412    \u001b[0m | \u001b[0m1.424    \u001b[0m | \u001b[0m1.542    \u001b[0m | \u001b[0m0.8535   \u001b[0m |\n",
      "하이퍼파라미터 : {'max_depth': 7, 'subsample': 0.6462619019069298, 'colsample_bytree': 0.80929192865947, 'min_child_weight': 6.079999276892042, 'gamma': 9.553916776586505, 'reg_alpha': 8.860396362258099, 'reg_lambda': 1.4050740023119348, 'scale_pos_weight': 1.4668544695338273, 'objective': 'binary:logistic', 'learning_rate': 0.02, 'random_state': 1991}\n"
     ]
    },
    {
     "name": "stderr",
     "output_type": "stream",
     "text": [
      "c:\\Users\\Hi\\anaconda3\\envs\\tf_python_310\\lib\\site-packages\\xgboost\\training.py:38: UserWarning: `feval` is deprecated, use `custom_metric` instead.  They have different behavior when custom objective is also used.See https://xgboost.readthedocs.io/en/latest/tutorials/custom_metric_obj.html for details on the `custom_metric`.\n",
      "  warnings.warn(\n"
     ]
    },
    {
     "name": "stdout",
     "output_type": "stream",
     "text": [
      "지니계수 : 0.27915174611271043\n",
      "\n",
      "| \u001b[95m6        \u001b[0m | \u001b[95m0.2792   \u001b[0m | \u001b[95m0.8093   \u001b[0m | \u001b[95m9.554    \u001b[0m | \u001b[95m6.532    \u001b[0m | \u001b[95m6.08     \u001b[0m | \u001b[95m8.86     \u001b[0m | \u001b[95m1.405    \u001b[0m | \u001b[95m1.467    \u001b[0m | \u001b[95m0.6463   \u001b[0m |\n",
      "하이퍼파라미터 : {'max_depth': 7, 'subsample': 0.6931141936797243, 'colsample_bytree': 0.8817801730078565, 'min_child_weight': 6.992334203641873, 'gamma': 9.013424730095146, 'reg_alpha': 7.640858389939128, 'reg_lambda': 1.3562805915715632, 'scale_pos_weight': 1.449446257931491, 'objective': 'binary:logistic', 'learning_rate': 0.02, 'random_state': 1991}\n"
     ]
    },
    {
     "name": "stderr",
     "output_type": "stream",
     "text": [
      "c:\\Users\\Hi\\anaconda3\\envs\\tf_python_310\\lib\\site-packages\\xgboost\\training.py:38: UserWarning: `feval` is deprecated, use `custom_metric` instead.  They have different behavior when custom objective is also used.See https://xgboost.readthedocs.io/en/latest/tutorials/custom_metric_obj.html for details on the `custom_metric`.\n",
      "  warnings.warn(\n"
     ]
    },
    {
     "name": "stdout",
     "output_type": "stream",
     "text": [
      "지니계수 : 0.2810739973185967\n",
      "\n",
      "| \u001b[95m7        \u001b[0m | \u001b[95m0.2811   \u001b[0m | \u001b[95m0.8818   \u001b[0m | \u001b[95m9.013    \u001b[0m | \u001b[95m6.927    \u001b[0m | \u001b[95m6.992    \u001b[0m | \u001b[95m7.641    \u001b[0m | \u001b[95m1.356    \u001b[0m | \u001b[95m1.449    \u001b[0m | \u001b[95m0.6931   \u001b[0m |\n",
      "하이퍼파라미터 : {'max_depth': 7, 'subsample': 0.6178380586143949, 'colsample_bytree': 0.8002721767872601, 'min_child_weight': 7.0, 'gamma': 8.482019636146331, 'reg_alpha': 7.600258088655923, 'reg_lambda': 1.2688863424536194, 'scale_pos_weight': 1.4659290254137904, 'objective': 'binary:logistic', 'learning_rate': 0.02, 'random_state': 1991}\n"
     ]
    },
    {
     "name": "stderr",
     "output_type": "stream",
     "text": [
      "c:\\Users\\Hi\\anaconda3\\envs\\tf_python_310\\lib\\site-packages\\xgboost\\training.py:38: UserWarning: `feval` is deprecated, use `custom_metric` instead.  They have different behavior when custom objective is also used.See https://xgboost.readthedocs.io/en/latest/tutorials/custom_metric_obj.html for details on the `custom_metric`.\n",
      "  warnings.warn(\n"
     ]
    },
    {
     "name": "stdout",
     "output_type": "stream",
     "text": [
      "지니계수 : 0.28069036550059084\n",
      "\n",
      "| \u001b[0m8        \u001b[0m | \u001b[0m0.2807   \u001b[0m | \u001b[0m0.8003   \u001b[0m | \u001b[0m8.482    \u001b[0m | \u001b[0m6.745    \u001b[0m | \u001b[0m7.0      \u001b[0m | \u001b[0m7.6      \u001b[0m | \u001b[0m1.269    \u001b[0m | \u001b[0m1.466    \u001b[0m | \u001b[0m0.6178   \u001b[0m |\n",
      "하이퍼파라미터 : {'max_depth': 7, 'subsample': 0.7102431062533778, 'colsample_bytree': 1.0, 'min_child_weight': 7.0, 'gamma': 8.75239267900182, 'reg_alpha': 7.0, 'reg_lambda': 1.282397381262159, 'scale_pos_weight': 1.4538566545153988, 'objective': 'binary:logistic', 'learning_rate': 0.02, 'random_state': 1991}\n"
     ]
    },
    {
     "name": "stderr",
     "output_type": "stream",
     "text": [
      "c:\\Users\\Hi\\anaconda3\\envs\\tf_python_310\\lib\\site-packages\\xgboost\\training.py:38: UserWarning: `feval` is deprecated, use `custom_metric` instead.  They have different behavior when custom objective is also used.See https://xgboost.readthedocs.io/en/latest/tutorials/custom_metric_obj.html for details on the `custom_metric`.\n",
      "  warnings.warn(\n"
     ]
    },
    {
     "name": "stdout",
     "output_type": "stream",
     "text": [
      "지니계수 : 0.2811927414631206\n",
      "\n",
      "| \u001b[95m9        \u001b[0m | \u001b[95m0.2812   \u001b[0m | \u001b[95m1.0      \u001b[0m | \u001b[95m8.752    \u001b[0m | \u001b[95m7.405    \u001b[0m | \u001b[95m7.0      \u001b[0m | \u001b[95m7.0      \u001b[0m | \u001b[95m1.282    \u001b[0m | \u001b[95m1.454    \u001b[0m | \u001b[95m0.7102   \u001b[0m |\n",
      "=========================================================================================================================\n"
     ]
    }
   ],
   "source": [
    "from bayes_opt import BayesianOptimization\n",
    "\n",
    "# 베이지안 최적화 객체 생성\n",
    "optimizer = BayesianOptimization(f=eval_function, \n",
    "                                 pbounds=param_bounds, \n",
    "                                 random_state=0)\n",
    "\n",
    "# 베이지안 최적화 수행\n",
    "optimizer.maximize(init_points=3, n_iter=6)"
   ]
  },
  {
   "cell_type": "markdown",
   "id": "f49bfb67",
   "metadata": {
    "papermill": {
     "duration": 0.02847,
     "end_time": "2022-03-05T13:11:19.393630",
     "exception": false,
     "start_time": "2022-03-05T13:11:19.365160",
     "status": "completed"
    },
    "tags": []
   },
   "source": [
    "### 결과 확인"
   ]
  },
  {
   "cell_type": "code",
   "execution_count": 18,
   "id": "0afc647b",
   "metadata": {
    "execution": {
     "iopub.execute_input": "2022-03-05T13:11:19.457616Z",
     "iopub.status.busy": "2022-03-05T13:11:19.456771Z",
     "iopub.status.idle": "2022-03-05T13:11:19.464139Z",
     "shell.execute_reply": "2022-03-05T13:11:19.464693Z"
    },
    "papermill": {
     "duration": 0.041441,
     "end_time": "2022-03-05T13:11:19.464836",
     "exception": false,
     "start_time": "2022-03-05T13:11:19.423395",
     "status": "completed"
    },
    "tags": []
   },
   "outputs": [
    {
     "data": {
      "text/plain": [
       "{'colsample_bytree': 1.0,\n",
       " 'gamma': 8.75239267900182,\n",
       " 'max_depth': 7.404752040081974,\n",
       " 'min_child_weight': 7.0,\n",
       " 'reg_alpha': 7.0,\n",
       " 'reg_lambda': 1.282397381262159,\n",
       " 'scale_pos_weight': 1.4538566545153988,\n",
       " 'subsample': 0.7102431062533778}"
      ]
     },
     "execution_count": 18,
     "metadata": {},
     "output_type": "execute_result"
    }
   ],
   "source": [
    "# 평가함수 점수가 최대일 때 하이퍼파라미터\n",
    "max_params = optimizer.max['params']\n",
    "max_params"
   ]
  },
  {
   "cell_type": "code",
   "execution_count": 19,
   "id": "69521ed5",
   "metadata": {
    "execution": {
     "iopub.execute_input": "2022-03-05T13:11:19.527117Z",
     "iopub.status.busy": "2022-03-05T13:11:19.526164Z",
     "iopub.status.idle": "2022-03-05T13:11:19.532374Z",
     "shell.execute_reply": "2022-03-05T13:11:19.532901Z"
    },
    "papermill": {
     "duration": 0.039078,
     "end_time": "2022-03-05T13:11:19.533050",
     "exception": false,
     "start_time": "2022-03-05T13:11:19.493972",
     "status": "completed"
    },
    "tags": []
   },
   "outputs": [
    {
     "data": {
      "text/plain": [
       "{'colsample_bytree': 1.0,\n",
       " 'gamma': 8.75239267900182,\n",
       " 'max_depth': 7,\n",
       " 'min_child_weight': 7.0,\n",
       " 'reg_alpha': 7.0,\n",
       " 'reg_lambda': 1.282397381262159,\n",
       " 'scale_pos_weight': 1.4538566545153988,\n",
       " 'subsample': 0.7102431062533778,\n",
       " 'objective': 'binary:logistic',\n",
       " 'learning_rate': 0.02,\n",
       " 'random_state': 1991}"
      ]
     },
     "execution_count": 19,
     "metadata": {},
     "output_type": "execute_result"
    }
   ],
   "source": [
    "# 정수형 하이퍼파라미터 변환\n",
    "max_params['max_depth'] = int(round(max_params['max_depth']))\n",
    "\n",
    "# 값이 고정된 하이퍼파라미터 추가\n",
    "max_params.update(fixed_params)\n",
    "max_params"
   ]
  },
  {
   "cell_type": "markdown",
   "id": "4a7b1204",
   "metadata": {
    "papermill": {
     "duration": 0.029947,
     "end_time": "2022-03-05T13:11:19.593174",
     "exception": false,
     "start_time": "2022-03-05T13:11:19.563227",
     "status": "completed"
    },
    "tags": []
   },
   "source": [
    "## 8.5.3 모델 훈련 및 성능 검증"
   ]
  },
  {
   "cell_type": "code",
   "execution_count": 20,
   "id": "1ce730bd",
   "metadata": {
    "execution": {
     "iopub.execute_input": "2022-03-05T13:11:19.655499Z",
     "iopub.status.busy": "2022-03-05T13:11:19.654543Z",
     "iopub.status.idle": "2022-03-05T14:45:20.954658Z",
     "shell.execute_reply": "2022-03-05T14:45:20.955754Z"
    },
    "papermill": {
     "duration": 5641.333722,
     "end_time": "2022-03-05T14:45:20.956753",
     "exception": false,
     "start_time": "2022-03-05T13:11:19.623031",
     "status": "completed"
    },
    "tags": []
   },
   "outputs": [
    {
     "name": "stdout",
     "output_type": "stream",
     "text": [
      "######################################## 폴드 1 / 폴드 5 ########################################\n"
     ]
    },
    {
     "name": "stderr",
     "output_type": "stream",
     "text": [
      "c:\\Users\\Hi\\anaconda3\\envs\\tf_python_310\\lib\\site-packages\\xgboost\\training.py:38: UserWarning: `feval` is deprecated, use `custom_metric` instead.  They have different behavior when custom objective is also used.See https://xgboost.readthedocs.io/en/latest/tutorials/custom_metric_obj.html for details on the `custom_metric`.\n",
      "  warnings.warn(\n"
     ]
    },
    {
     "name": "stdout",
     "output_type": "stream",
     "text": [
      "[0]\tvalid-logloss:0.21788\tvalid-gini:0.20535\n",
      "[100]\tvalid-logloss:0.16040\tvalid-gini:0.27362\n",
      "[200]\tvalid-logloss:0.15516\tvalid-gini:0.28659\n",
      "[300]\tvalid-logloss:0.15444\tvalid-gini:0.29124\n",
      "[400]\tvalid-logloss:0.15433\tvalid-gini:0.29274\n",
      "[500]\tvalid-logloss:0.15429\tvalid-gini:0.29312\n",
      "[600]\tvalid-logloss:0.15427\tvalid-gini:0.29317\n",
      "[700]\tvalid-logloss:0.15427\tvalid-gini:0.29352\n",
      "[800]\tvalid-logloss:0.15426\tvalid-gini:0.29378\n",
      "[900]\tvalid-logloss:0.15428\tvalid-gini:0.29386\n",
      "[1000]\tvalid-logloss:0.15425\tvalid-gini:0.29397\n",
      "[1100]\tvalid-logloss:0.15424\tvalid-gini:0.29403\n",
      "[1200]\tvalid-logloss:0.15425\tvalid-gini:0.29408\n",
      "[1300]\tvalid-logloss:0.15425\tvalid-gini:0.29407\n",
      "[1400]\tvalid-logloss:0.15423\tvalid-gini:0.29422\n",
      "[1500]\tvalid-logloss:0.15423\tvalid-gini:0.29433\n",
      "[1600]\tvalid-logloss:0.15423\tvalid-gini:0.29438\n",
      "[1700]\tvalid-logloss:0.15424\tvalid-gini:0.29445\n",
      "[1800]\tvalid-logloss:0.15423\tvalid-gini:0.29451\n",
      "[1900]\tvalid-logloss:0.15422\tvalid-gini:0.29452\n",
      "[1999]\tvalid-logloss:0.15424\tvalid-gini:0.29465\n",
      "폴드 1 지니계수 : 0.29461206898630254\n",
      "\n",
      "######################################## 폴드 2 / 폴드 5 ########################################\n",
      "[0]\tvalid-logloss:0.21788\tvalid-gini:0.19759\n",
      "[100]\tvalid-logloss:0.16063\tvalid-gini:0.26080\n",
      "[200]\tvalid-logloss:0.15550\tvalid-gini:0.27269\n",
      "[300]\tvalid-logloss:0.15483\tvalid-gini:0.27693\n",
      "[400]\tvalid-logloss:0.15475\tvalid-gini:0.27780\n",
      "[500]\tvalid-logloss:0.15472\tvalid-gini:0.27813\n",
      "[600]\tvalid-logloss:0.15473\tvalid-gini:0.27853\n",
      "[700]\tvalid-logloss:0.15471\tvalid-gini:0.27885\n",
      "[800]\tvalid-logloss:0.15471\tvalid-gini:0.27907\n",
      "[900]\tvalid-logloss:0.15472\tvalid-gini:0.27914\n",
      "[1000]\tvalid-logloss:0.15469\tvalid-gini:0.27920\n",
      "[1100]\tvalid-logloss:0.15468\tvalid-gini:0.27929\n",
      "[1200]\tvalid-logloss:0.15468\tvalid-gini:0.27938\n",
      "[1300]\tvalid-logloss:0.15469\tvalid-gini:0.27957\n",
      "[1400]\tvalid-logloss:0.15469\tvalid-gini:0.27966\n",
      "[1500]\tvalid-logloss:0.15469\tvalid-gini:0.27972\n",
      "[1600]\tvalid-logloss:0.15468\tvalid-gini:0.27974\n",
      "[1700]\tvalid-logloss:0.15469\tvalid-gini:0.27982\n",
      "[1800]\tvalid-logloss:0.15467\tvalid-gini:0.27986\n",
      "[1900]\tvalid-logloss:0.15467\tvalid-gini:0.27993\n",
      "[1999]\tvalid-logloss:0.15467\tvalid-gini:0.27999\n",
      "폴드 2 지니계수 : 0.279976580943064\n",
      "\n",
      "######################################## 폴드 3 / 폴드 5 ########################################\n",
      "[0]\tvalid-logloss:0.21787\tvalid-gini:0.20687\n",
      "[100]\tvalid-logloss:0.16037\tvalid-gini:0.26909\n",
      "[200]\tvalid-logloss:0.15512\tvalid-gini:0.28073\n",
      "[300]\tvalid-logloss:0.15445\tvalid-gini:0.28358\n",
      "[400]\tvalid-logloss:0.15435\tvalid-gini:0.28433\n",
      "[500]\tvalid-logloss:0.15433\tvalid-gini:0.28427\n",
      "[600]\tvalid-logloss:0.15431\tvalid-gini:0.28446\n",
      "[700]\tvalid-logloss:0.15431\tvalid-gini:0.28448\n",
      "[800]\tvalid-logloss:0.15433\tvalid-gini:0.28436\n",
      "[814]\tvalid-logloss:0.15433\tvalid-gini:0.28436\n",
      "폴드 3 지니계수 : 0.28447819604038993\n",
      "\n",
      "######################################## 폴드 4 / 폴드 5 ########################################\n",
      "[0]\tvalid-logloss:0.21787\tvalid-gini:0.20406\n",
      "[100]\tvalid-logloss:0.16045\tvalid-gini:0.26157\n",
      "[200]\tvalid-logloss:0.15536\tvalid-gini:0.27238\n",
      "[300]\tvalid-logloss:0.15471\tvalid-gini:0.27561\n",
      "[400]\tvalid-logloss:0.15461\tvalid-gini:0.27628\n",
      "[500]\tvalid-logloss:0.15459\tvalid-gini:0.27667\n",
      "[600]\tvalid-logloss:0.15456\tvalid-gini:0.27695\n",
      "[700]\tvalid-logloss:0.15456\tvalid-gini:0.27720\n",
      "[800]\tvalid-logloss:0.15456\tvalid-gini:0.27735\n",
      "[900]\tvalid-logloss:0.15456\tvalid-gini:0.27741\n",
      "[1000]\tvalid-logloss:0.15455\tvalid-gini:0.27744\n",
      "[1100]\tvalid-logloss:0.15456\tvalid-gini:0.27746\n",
      "[1200]\tvalid-logloss:0.15455\tvalid-gini:0.27752\n",
      "[1300]\tvalid-logloss:0.15455\tvalid-gini:0.27759\n",
      "[1400]\tvalid-logloss:0.15454\tvalid-gini:0.27760\n",
      "[1500]\tvalid-logloss:0.15453\tvalid-gini:0.27758\n",
      "[1552]\tvalid-logloss:0.15454\tvalid-gini:0.27762\n",
      "폴드 4 지니계수 : 0.277541549498748\n",
      "\n",
      "######################################## 폴드 5 / 폴드 5 ########################################\n",
      "[0]\tvalid-logloss:0.21788\tvalid-gini:0.19466\n",
      "[100]\tvalid-logloss:0.16060\tvalid-gini:0.26944\n",
      "[200]\tvalid-logloss:0.15542\tvalid-gini:0.28272\n",
      "[300]\tvalid-logloss:0.15472\tvalid-gini:0.28702\n",
      "[400]\tvalid-logloss:0.15462\tvalid-gini:0.28843\n",
      "[500]\tvalid-logloss:0.15458\tvalid-gini:0.28909\n",
      "[600]\tvalid-logloss:0.15455\tvalid-gini:0.28964\n",
      "[700]\tvalid-logloss:0.15455\tvalid-gini:0.28978\n",
      "[800]\tvalid-logloss:0.15455\tvalid-gini:0.29002\n",
      "[900]\tvalid-logloss:0.15454\tvalid-gini:0.29014\n",
      "[1000]\tvalid-logloss:0.15453\tvalid-gini:0.29045\n",
      "[1100]\tvalid-logloss:0.15453\tvalid-gini:0.29049\n",
      "[1200]\tvalid-logloss:0.15453\tvalid-gini:0.29058\n",
      "[1300]\tvalid-logloss:0.15451\tvalid-gini:0.29070\n",
      "[1400]\tvalid-logloss:0.15453\tvalid-gini:0.29072\n",
      "[1500]\tvalid-logloss:0.15451\tvalid-gini:0.29080\n",
      "[1600]\tvalid-logloss:0.15453\tvalid-gini:0.29081\n",
      "[1700]\tvalid-logloss:0.15450\tvalid-gini:0.29085\n",
      "[1800]\tvalid-logloss:0.15451\tvalid-gini:0.29084\n",
      "[1900]\tvalid-logloss:0.15450\tvalid-gini:0.29091\n",
      "[1999]\tvalid-logloss:0.15450\tvalid-gini:0.29099\n",
      "폴드 5 지니계수 : 0.2910138975370397\n",
      "\n"
     ]
    }
   ],
   "source": [
    "from sklearn.model_selection import StratifiedKFold\n",
    "\n",
    "# 층화 K 폴드 교차 검증기 생성\n",
    "folds = StratifiedKFold(n_splits=5, shuffle=True, random_state=1991)\n",
    "\n",
    "# OOF 방식으로 훈련된 모델로 검증 데이터 타깃값을 예측한 확률을 담을 1차원 배열\n",
    "oof_val_preds = np.zeros(X.shape[0]) \n",
    "# OOF 방식으로 훈련된 모델로 테스트 데이터 타깃값을 예측한 확률을 담을 1차원 배열\n",
    "oof_test_preds = np.zeros(X_test.shape[0]) \n",
    "\n",
    "# OOF 방식으로 모델 훈련, 검증, 예측\n",
    "for idx, (train_idx, valid_idx) in enumerate(folds.split(X, y)):\n",
    "    # 각 폴드를 구분하는 문구 출력\n",
    "    print('#'*40, f'폴드 {idx+1} / 폴드 {folds.n_splits}', '#'*40)\n",
    "    \n",
    "    # 훈련용 데이터, 검증용 데이터 설정\n",
    "    X_train, y_train = X[train_idx], y[train_idx]\n",
    "    X_valid, y_valid = X[valid_idx], y[valid_idx]\n",
    "\n",
    "    # XGBoost 전용 데이터셋 생성 \n",
    "    dtrain = xgb.DMatrix(X_train, y_train)\n",
    "    dvalid = xgb.DMatrix(X_valid, y_valid)\n",
    "    dtest = xgb.DMatrix(X_test)\n",
    "    # XGBoost 모델 훈련\n",
    "    xgb_model = xgb.train(params=max_params, \n",
    "                          dtrain=dtrain,\n",
    "                          num_boost_round=2000,\n",
    "                          evals=[(dvalid, 'valid')],\n",
    "                          maximize=True,\n",
    "                          feval=gini,\n",
    "                          early_stopping_rounds=200,\n",
    "                          verbose_eval=100)\n",
    "\n",
    "    # 모델 성능이 가장 좋을 때의 부스팅 반복 횟수 저장\n",
    "    best_iter = xgb_model.best_iteration\n",
    "    # 테스트 데이터를 활용해 OOF 예측\n",
    "    oof_test_preds += xgb_model.predict(dtest,\n",
    "                                        iteration_range=(0, best_iter))/folds.n_splits\n",
    "    \n",
    "    # 모델 성능 평가를 위한 검증 데이터 타깃값 예측 \n",
    "    oof_val_preds[valid_idx] += xgb_model.predict(dvalid, \n",
    "                                                  iteration_range=(0, best_iter))\n",
    "    \n",
    "    # 검증 데이터 예측 확률에 대한 정규화 지니계수\n",
    "    gini_score = eval_gini(y_valid, oof_val_preds[valid_idx])\n",
    "    print(f'폴드 {idx+1} 지니계수 : {gini_score}\\n')"
   ]
  },
  {
   "cell_type": "code",
   "execution_count": 21,
   "id": "6b10672f",
   "metadata": {
    "execution": {
     "iopub.execute_input": "2022-03-05T14:45:21.088036Z",
     "iopub.status.busy": "2022-03-05T14:45:21.087369Z",
     "iopub.status.idle": "2022-03-05T14:45:21.194695Z",
     "shell.execute_reply": "2022-03-05T14:45:21.194079Z"
    },
    "papermill": {
     "duration": 0.175086,
     "end_time": "2022-03-05T14:45:21.194835",
     "exception": false,
     "start_time": "2022-03-05T14:45:21.019749",
     "status": "completed"
    },
    "tags": []
   },
   "outputs": [
    {
     "name": "stdout",
     "output_type": "stream",
     "text": [
      "OOF 검증 데이터 지니계수 : 0.2853918381420083\n"
     ]
    }
   ],
   "source": [
    "print('OOF 검증 데이터 지니계수 :', eval_gini(y, oof_val_preds))"
   ]
  },
  {
   "cell_type": "markdown",
   "id": "27d034df",
   "metadata": {
    "papermill": {
     "duration": 0.060372,
     "end_time": "2022-03-05T14:45:21.314881",
     "exception": false,
     "start_time": "2022-03-05T14:45:21.254509",
     "status": "completed"
    },
    "tags": []
   },
   "source": [
    "## 8.5.4 예측 및 결과 제출"
   ]
  },
  {
   "cell_type": "code",
   "execution_count": 22,
   "id": "238f75be",
   "metadata": {
    "execution": {
     "iopub.execute_input": "2022-03-05T14:45:21.440741Z",
     "iopub.status.busy": "2022-03-05T14:45:21.440175Z",
     "iopub.status.idle": "2022-03-05T14:45:25.127360Z",
     "shell.execute_reply": "2022-03-05T14:45:25.126708Z"
    },
    "papermill": {
     "duration": 3.753999,
     "end_time": "2022-03-05T14:45:25.127494",
     "exception": false,
     "start_time": "2022-03-05T14:45:21.373495",
     "status": "completed"
    },
    "tags": []
   },
   "outputs": [],
   "source": [
    "submission['target'] = oof_test_preds\n",
    "submission.to_csv('output/xgb_submission.csv')"
   ]
  }
 ],
 "metadata": {
  "kernelspec": {
   "display_name": "tf_310_kernel",
   "language": "python",
   "name": "tf_python_310"
  },
  "language_info": {
   "codemirror_mode": {
    "name": "ipython",
    "version": 3
   },
   "file_extension": ".py",
   "mimetype": "text/x-python",
   "name": "python",
   "nbconvert_exporter": "python",
   "pygments_lexer": "ipython3",
   "version": "3.10.13"
  },
  "papermill": {
   "default_parameters": {},
   "duration": 13667.475498,
   "end_time": "2022-03-05T14:45:27.635957",
   "environment_variables": {},
   "exception": null,
   "input_path": "__notebook__.ipynb",
   "output_path": "__notebook__.ipynb",
   "parameters": {},
   "start_time": "2022-03-05T10:57:40.160459",
   "version": "2.3.3"
  }
 },
 "nbformat": 4,
 "nbformat_minor": 5
}
