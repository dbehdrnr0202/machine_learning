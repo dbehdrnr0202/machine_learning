{
 "cells": [
  {
   "cell_type": "markdown",
   "id": "3f9d756e",
   "metadata": {
    "papermill": {
     "duration": 0.019552,
     "end_time": "2022-03-05T05:47:29.967830",
     "exception": false,
     "start_time": "2022-03-05T05:47:29.948278",
     "status": "completed"
    },
    "tags": []
   },
   "source": [
    "# 8.6 안전 운전자 예측 경진대회 성능 개선 III : LightGBM과 XGBoost 앙상블"
   ]
  },
  {
   "cell_type": "code",
   "execution_count": 17,
   "id": "17f432b9",
   "metadata": {
    "execution": {
     "iopub.execute_input": "2022-03-05T05:47:30.045101Z",
     "iopub.status.busy": "2022-03-05T05:47:30.043248Z",
     "iopub.status.idle": "2022-03-05T05:47:40.950826Z",
     "shell.execute_reply": "2022-03-05T05:47:40.949940Z"
    },
    "papermill": {
     "duration": 10.929602,
     "end_time": "2022-03-05T05:47:40.951011",
     "exception": false,
     "start_time": "2022-03-05T05:47:30.021409",
     "status": "completed"
    },
    "tags": []
   },
   "outputs": [],
   "source": [
    "import pandas as pd\n",
    "\n",
    "# 데이터 경로\n",
    "data_path = 'data/'\n",
    "\n",
    "train = pd.read_csv(data_path + 'train.csv', index_col='id')\n",
    "test = pd.read_csv(data_path + 'test.csv', index_col='id')\n",
    "submission = pd.read_csv(data_path + 'sample_submission.csv', index_col='id')"
   ]
  },
  {
   "cell_type": "code",
   "execution_count": 18,
   "id": "1d26be66",
   "metadata": {
    "execution": {
     "iopub.execute_input": "2022-03-05T05:47:40.997595Z",
     "iopub.status.busy": "2022-03-05T05:47:40.996888Z",
     "iopub.status.idle": "2022-03-05T05:47:42.167613Z",
     "shell.execute_reply": "2022-03-05T05:47:42.167040Z"
    },
    "papermill": {
     "duration": 1.198306,
     "end_time": "2022-03-05T05:47:42.167806",
     "exception": false,
     "start_time": "2022-03-05T05:47:40.969500",
     "status": "completed"
    },
    "tags": []
   },
   "outputs": [],
   "source": [
    "all_data = pd.concat([train, test], ignore_index=True)\n",
    "all_data = all_data.drop('target', axis=1) # 타깃값 제거\n",
    "\n",
    "all_features = all_data.columns # 전체 피처"
   ]
  },
  {
   "cell_type": "code",
   "execution_count": 19,
   "id": "ef456763",
   "metadata": {
    "execution": {
     "iopub.execute_input": "2022-03-05T05:47:42.213664Z",
     "iopub.status.busy": "2022-03-05T05:47:42.212764Z",
     "iopub.status.idle": "2022-03-05T05:47:45.206431Z",
     "shell.execute_reply": "2022-03-05T05:47:45.205822Z"
    },
    "papermill": {
     "duration": 3.019533,
     "end_time": "2022-03-05T05:47:45.206568",
     "exception": false,
     "start_time": "2022-03-05T05:47:42.187035",
     "status": "completed"
    },
    "tags": []
   },
   "outputs": [],
   "source": [
    "from sklearn.preprocessing import OneHotEncoder\n",
    "\n",
    "cat_features = [feature for feature in all_features if 'cat' in feature] # 명목형 피처\n",
    "\n",
    "# 원-핫 인코딩 적용\n",
    "onehot_encoder = OneHotEncoder()\n",
    "encoded_cat_matrix = onehot_encoder.fit_transform(all_data[cat_features]) "
   ]
  },
  {
   "cell_type": "code",
   "execution_count": 20,
   "id": "380637ed",
   "metadata": {
    "execution": {
     "iopub.execute_input": "2022-03-05T05:47:45.261260Z",
     "iopub.status.busy": "2022-03-05T05:47:45.260127Z",
     "iopub.status.idle": "2022-03-05T05:47:45.450707Z",
     "shell.execute_reply": "2022-03-05T05:47:45.451208Z"
    },
    "papermill": {
     "duration": 0.226962,
     "end_time": "2022-03-05T05:47:45.451406",
     "exception": false,
     "start_time": "2022-03-05T05:47:45.224444",
     "status": "completed"
    },
    "tags": []
   },
   "outputs": [],
   "source": [
    "# '데이터 하나당 결측값 개수'를 파생 피로 추가\n",
    "all_data['num_missing'] = (all_data==-1).sum(axis=1)"
   ]
  },
  {
   "cell_type": "code",
   "execution_count": 21,
   "id": "eaa8ccd6",
   "metadata": {
    "execution": {
     "iopub.execute_input": "2022-03-05T05:47:45.493701Z",
     "iopub.status.busy": "2022-03-05T05:47:45.493022Z",
     "iopub.status.idle": "2022-03-05T05:47:45.495674Z",
     "shell.execute_reply": "2022-03-05T05:47:45.495173Z"
    },
    "papermill": {
     "duration": 0.025953,
     "end_time": "2022-03-05T05:47:45.495854",
     "exception": false,
     "start_time": "2022-03-05T05:47:45.469901",
     "status": "completed"
    },
    "tags": []
   },
   "outputs": [],
   "source": [
    "# 명목형 피처, calc 분류 피처를 제외한 피처\n",
    "remaining_features = [feature for feature in all_features \n",
    "                      if ('cat' not in feature and 'calc' not in feature)] \n",
    "# num_missing을 remaining_features에 추가\n",
    "remaining_features.append('num_missing')"
   ]
  },
  {
   "cell_type": "code",
   "execution_count": 22,
   "id": "aa336c41",
   "metadata": {
    "execution": {
     "iopub.execute_input": "2022-03-05T05:47:45.539887Z",
     "iopub.status.busy": "2022-03-05T05:47:45.538989Z",
     "iopub.status.idle": "2022-03-05T05:48:27.439902Z",
     "shell.execute_reply": "2022-03-05T05:48:27.439190Z"
    },
    "papermill": {
     "duration": 41.92612,
     "end_time": "2022-03-05T05:48:27.440072",
     "exception": false,
     "start_time": "2022-03-05T05:47:45.513952",
     "status": "completed"
    },
    "tags": []
   },
   "outputs": [],
   "source": [
    "# 분류가 ind인 피처\n",
    "ind_features = [feature for feature in all_features if 'ind' in feature]\n",
    "\n",
    "is_first_feature = True\n",
    "for ind_feature in ind_features:\n",
    "    if is_first_feature:\n",
    "        all_data['mix_ind'] = all_data[ind_feature].astype(str) + '_'\n",
    "        is_first_feature = False\n",
    "    else:\n",
    "        all_data['mix_ind'] += all_data[ind_feature].astype(str) + '_'"
   ]
  },
  {
   "cell_type": "code",
   "execution_count": 23,
   "id": "a210d467",
   "metadata": {
    "execution": {
     "iopub.execute_input": "2022-03-05T05:48:27.495534Z",
     "iopub.status.busy": "2022-03-05T05:48:27.494520Z",
     "iopub.status.idle": "2022-03-05T05:48:41.546261Z",
     "shell.execute_reply": "2022-03-05T05:48:41.545412Z"
    },
    "papermill": {
     "duration": 14.086183,
     "end_time": "2022-03-05T05:48:41.546401",
     "exception": false,
     "start_time": "2022-03-05T05:48:27.460218",
     "status": "completed"
    },
    "tags": []
   },
   "outputs": [],
   "source": [
    "cat_count_features = []\n",
    "for feature in cat_features+['mix_ind']:\n",
    "    val_counts_dict = all_data[feature].value_counts().to_dict()\n",
    "    all_data[f'{feature}_count'] = all_data[feature].apply(lambda x: \n",
    "                                                           val_counts_dict[x])\n",
    "    cat_count_features.append(f'{feature}_count')"
   ]
  },
  {
   "cell_type": "code",
   "execution_count": 24,
   "id": "aaf49cb2",
   "metadata": {
    "execution": {
     "iopub.execute_input": "2022-03-05T05:48:41.587867Z",
     "iopub.status.busy": "2022-03-05T05:48:41.587140Z",
     "iopub.status.idle": "2022-03-05T05:48:41.595306Z",
     "shell.execute_reply": "2022-03-05T05:48:41.594661Z"
    },
    "papermill": {
     "duration": 0.029624,
     "end_time": "2022-03-05T05:48:41.595443",
     "exception": false,
     "start_time": "2022-03-05T05:48:41.565819",
     "status": "completed"
    },
    "tags": []
   },
   "outputs": [
    {
     "data": {
      "text/plain": [
       "['ps_ind_02_cat_count',\n",
       " 'ps_ind_04_cat_count',\n",
       " 'ps_ind_05_cat_count',\n",
       " 'ps_car_01_cat_count',\n",
       " 'ps_car_02_cat_count',\n",
       " 'ps_car_03_cat_count',\n",
       " 'ps_car_04_cat_count',\n",
       " 'ps_car_05_cat_count',\n",
       " 'ps_car_06_cat_count',\n",
       " 'ps_car_07_cat_count',\n",
       " 'ps_car_08_cat_count',\n",
       " 'ps_car_09_cat_count',\n",
       " 'ps_car_10_cat_count',\n",
       " 'ps_car_11_cat_count',\n",
       " 'mix_ind_count']"
      ]
     },
     "execution_count": 24,
     "metadata": {},
     "output_type": "execute_result"
    }
   ],
   "source": [
    "cat_count_features"
   ]
  },
  {
   "cell_type": "code",
   "execution_count": 25,
   "id": "e5841681",
   "metadata": {
    "execution": {
     "iopub.execute_input": "2022-03-05T05:48:41.640785Z",
     "iopub.status.busy": "2022-03-05T05:48:41.640081Z",
     "iopub.status.idle": "2022-03-05T05:48:47.208845Z",
     "shell.execute_reply": "2022-03-05T05:48:47.209378Z"
    },
    "papermill": {
     "duration": 5.594832,
     "end_time": "2022-03-05T05:48:47.209573",
     "exception": false,
     "start_time": "2022-03-05T05:48:41.614741",
     "status": "completed"
    },
    "tags": []
   },
   "outputs": [],
   "source": [
    "from scipy import sparse\n",
    "\n",
    "# 필요 없는 피처들\n",
    "drop_features = ['ps_ind_14', 'ps_ind_10_bin', 'ps_ind_11_bin', \n",
    "                 'ps_ind_12_bin', 'ps_ind_13_bin', 'ps_car_14']\n",
    "\n",
    "# remaining_features, cat_count_features에서 drop_features를 제거한 데이터\n",
    "all_data_remaining = all_data[remaining_features+cat_count_features].drop(drop_features, axis=1)\n",
    "\n",
    "# 데이터 합치기\n",
    "all_data_sprs = sparse.hstack([sparse.csr_matrix(all_data_remaining),\n",
    "                               encoded_cat_matrix],\n",
    "                              format='csr')"
   ]
  },
  {
   "cell_type": "code",
   "execution_count": 26,
   "id": "3198b69a",
   "metadata": {
    "execution": {
     "iopub.execute_input": "2022-03-05T05:48:47.256261Z",
     "iopub.status.busy": "2022-03-05T05:48:47.255508Z",
     "iopub.status.idle": "2022-03-05T05:48:48.195988Z",
     "shell.execute_reply": "2022-03-05T05:48:48.195318Z"
    },
    "papermill": {
     "duration": 0.966134,
     "end_time": "2022-03-05T05:48:48.196141",
     "exception": false,
     "start_time": "2022-03-05T05:48:47.230007",
     "status": "completed"
    },
    "tags": []
   },
   "outputs": [],
   "source": [
    "num_train = len(train) # 훈련 데이터 개수\n",
    "\n",
    "# 훈련 데이터와 테스트 데이터 나누기\n",
    "X = all_data_sprs[:num_train]\n",
    "X_test = all_data_sprs[num_train:]\n",
    "\n",
    "y = train['target'].values"
   ]
  },
  {
   "cell_type": "code",
   "execution_count": 27,
   "id": "73d76f40",
   "metadata": {
    "execution": {
     "iopub.execute_input": "2022-03-05T05:48:48.237922Z",
     "iopub.status.busy": "2022-03-05T05:48:48.237229Z",
     "iopub.status.idle": "2022-03-05T05:48:48.243547Z",
     "shell.execute_reply": "2022-03-05T05:48:48.244061Z"
    },
    "papermill": {
     "duration": 0.029019,
     "end_time": "2022-03-05T05:48:48.244279",
     "exception": false,
     "start_time": "2022-03-05T05:48:48.215260",
     "status": "completed"
    },
    "tags": []
   },
   "outputs": [],
   "source": [
    "import numpy as np\n",
    "\n",
    "def eval_gini(y_true, y_pred):\n",
    "    # 실제값과 예측값의 크기가 같은지 확인 (값이 다르면 오류 발생)\n",
    "    assert y_true.shape == y_pred.shape\n",
    "\n",
    "    n_samples = y_true.shape[0]                      # 데이터 개수\n",
    "    L_mid = np.linspace(1 / n_samples, 1, n_samples) # 대각선 값\n",
    "\n",
    "    # 1) 예측값에 대한 지니계수\n",
    "    pred_order = y_true[y_pred.argsort()] # y_pred 크기순으로 y_true 값 정렬\n",
    "    L_pred = np.cumsum(pred_order) / np.sum(pred_order) # 로렌츠 곡선\n",
    "    G_pred = np.sum(L_mid - L_pred)       # 예측 값에 대한 지니계수\n",
    "\n",
    "    # 2) 예측이 완벽할 때 지니계수\n",
    "    true_order = y_true[y_true.argsort()] # y_true 크기순으로 y_true 값 정렬\n",
    "    L_true = np.cumsum(true_order) / np.sum(true_order) # 로렌츠 곡선\n",
    "    G_true = np.sum(L_mid - L_true)       # 예측이 완벽할 때 지니계수\n",
    "\n",
    "    # 정규화된 지니계수\n",
    "    return G_pred / G_true"
   ]
  },
  {
   "cell_type": "code",
   "execution_count": 28,
   "id": "8414ed07",
   "metadata": {
    "execution": {
     "iopub.execute_input": "2022-03-05T05:48:48.286884Z",
     "iopub.status.busy": "2022-03-05T05:48:48.286161Z",
     "iopub.status.idle": "2022-03-05T05:48:48.290751Z",
     "shell.execute_reply": "2022-03-05T05:48:48.290206Z"
    },
    "papermill": {
     "duration": 0.026781,
     "end_time": "2022-03-05T05:48:48.290899",
     "exception": false,
     "start_time": "2022-03-05T05:48:48.264118",
     "status": "completed"
    },
    "tags": []
   },
   "outputs": [],
   "source": [
    "# LightGBM용 gini() 함수\n",
    "def gini_lgb(preds, dtrain):\n",
    "    labels = dtrain.get_label()\n",
    "    return 'gini', eval_gini(labels, preds), True"
   ]
  },
  {
   "cell_type": "code",
   "execution_count": 29,
   "id": "f7222034",
   "metadata": {
    "execution": {
     "iopub.execute_input": "2022-03-05T05:48:48.333314Z",
     "iopub.status.busy": "2022-03-05T05:48:48.332628Z",
     "iopub.status.idle": "2022-03-05T05:48:48.336978Z",
     "shell.execute_reply": "2022-03-05T05:48:48.337434Z"
    },
    "papermill": {
     "duration": 0.027029,
     "end_time": "2022-03-05T05:48:48.337613",
     "exception": false,
     "start_time": "2022-03-05T05:48:48.310584",
     "status": "completed"
    },
    "tags": []
   },
   "outputs": [],
   "source": [
    "# XGBoost용 gini() 함수\n",
    "def gini_xgb(preds, dtrain):\n",
    "    labels = dtrain.get_label()\n",
    "    return 'gini', eval_gini(labels, preds)"
   ]
  },
  {
   "cell_type": "code",
   "execution_count": 30,
   "id": "3afc7719",
   "metadata": {
    "execution": {
     "iopub.execute_input": "2022-03-05T05:48:48.380436Z",
     "iopub.status.busy": "2022-03-05T05:48:48.379765Z",
     "iopub.status.idle": "2022-03-05T05:48:48.439516Z",
     "shell.execute_reply": "2022-03-05T05:48:48.438950Z"
    },
    "papermill": {
     "duration": 0.082608,
     "end_time": "2022-03-05T05:48:48.439773",
     "exception": false,
     "start_time": "2022-03-05T05:48:48.357165",
     "status": "completed"
    },
    "tags": []
   },
   "outputs": [],
   "source": [
    "from sklearn.model_selection import StratifiedKFold\n",
    "\n",
    "# 층화 K 폴드 교차 검증기 생성\n",
    "folds = StratifiedKFold(n_splits=5, shuffle=True, random_state=1991)"
   ]
  },
  {
   "cell_type": "code",
   "execution_count": 31,
   "id": "809b6f1d",
   "metadata": {
    "execution": {
     "iopub.execute_input": "2022-03-05T05:48:48.483551Z",
     "iopub.status.busy": "2022-03-05T05:48:48.482922Z",
     "iopub.status.idle": "2022-03-05T05:48:48.488623Z",
     "shell.execute_reply": "2022-03-05T05:48:48.489241Z"
    },
    "papermill": {
     "duration": 0.029098,
     "end_time": "2022-03-05T05:48:48.489407",
     "exception": false,
     "start_time": "2022-03-05T05:48:48.460309",
     "status": "completed"
    },
    "tags": []
   },
   "outputs": [],
   "source": [
    "max_params_lgb = {\n",
    "    'bagging_fraction': 0.6213108174593661,\n",
    "    'feature_fraction': 0.608712929970154,\n",
    "    'lambda_l1': 0.7040436794880651,\n",
    "    'lambda_l2': 0.9832619845547939,\n",
    "    'min_child_samples': 9,\n",
    "    'min_child_weight': 36.10036444740457,\n",
    "    'num_leaves': 40,\n",
    "    'objective': 'binary',\n",
    "    'learning_rate': 0.005,\n",
    "    'bagging_freq': 1,\n",
    "    'force_row_wise': True,\n",
    "    'random_state': 1991\n",
    "}"
   ]
  },
  {
   "cell_type": "code",
   "execution_count": 32,
   "id": "939e1b87",
   "metadata": {
    "execution": {
     "iopub.execute_input": "2022-03-05T05:48:48.540442Z",
     "iopub.status.busy": "2022-03-05T05:48:48.539662Z",
     "iopub.status.idle": "2022-03-05T06:11:59.367731Z",
     "shell.execute_reply": "2022-03-05T06:11:59.368367Z"
    },
    "papermill": {
     "duration": 1390.859598,
     "end_time": "2022-03-05T06:11:59.368782",
     "exception": false,
     "start_time": "2022-03-05T05:48:48.509184",
     "status": "completed"
    },
    "tags": []
   },
   "outputs": [
    {
     "name": "stdout",
     "output_type": "stream",
     "text": [
      "######################################## 폴드 1 / 폴드 5 ########################################\n",
      "[LightGBM] [Info] Number of positive: 17355, number of negative: 458814\n",
      "[LightGBM] [Info] Total Bins 1554\n",
      "[LightGBM] [Info] Number of data points in the train set: 476169, number of used features: 216\n",
      "[LightGBM] [Info] [binary:BoostFromScore]: pavg=0.036447 -> initscore=-3.274764\n",
      "[LightGBM] [Info] Start training from score -3.274764\n",
      "Training until validation scores don't improve for 300 rounds\n",
      "[100]\tvalid_0's binary_logloss: 0.154239\tvalid_0's gini: 0.270944\n",
      "[200]\tvalid_0's binary_logloss: 0.153176\tvalid_0's gini: 0.275764\n",
      "[300]\tvalid_0's binary_logloss: 0.152584\tvalid_0's gini: 0.279501\n",
      "[400]\tvalid_0's binary_logloss: 0.152222\tvalid_0's gini: 0.282893\n",
      "[500]\tvalid_0's binary_logloss: 0.151986\tvalid_0's gini: 0.286058\n",
      "[600]\tvalid_0's binary_logloss: 0.151824\tvalid_0's gini: 0.288805\n",
      "[700]\tvalid_0's binary_logloss: 0.151712\tvalid_0's gini: 0.290719\n",
      "[800]\tvalid_0's binary_logloss: 0.151622\tvalid_0's gini: 0.292581\n",
      "[900]\tvalid_0's binary_logloss: 0.151552\tvalid_0's gini: 0.294212\n",
      "[1000]\tvalid_0's binary_logloss: 0.151505\tvalid_0's gini: 0.295204\n",
      "[1100]\tvalid_0's binary_logloss: 0.151471\tvalid_0's gini: 0.295909\n",
      "[1200]\tvalid_0's binary_logloss: 0.151438\tvalid_0's gini: 0.296721\n",
      "[1300]\tvalid_0's binary_logloss: 0.151414\tvalid_0's gini: 0.297335\n",
      "[1400]\tvalid_0's binary_logloss: 0.151402\tvalid_0's gini: 0.297569\n",
      "[1500]\tvalid_0's binary_logloss: 0.15139\tvalid_0's gini: 0.297881\n",
      "[1600]\tvalid_0's binary_logloss: 0.151382\tvalid_0's gini: 0.298033\n",
      "[1700]\tvalid_0's binary_logloss: 0.151376\tvalid_0's gini: 0.298238\n",
      "[1800]\tvalid_0's binary_logloss: 0.151372\tvalid_0's gini: 0.298342\n",
      "[1900]\tvalid_0's binary_logloss: 0.151369\tvalid_0's gini: 0.298371\n",
      "[2000]\tvalid_0's binary_logloss: 0.151371\tvalid_0's gini: 0.298222\n",
      "[2100]\tvalid_0's binary_logloss: 0.151362\tvalid_0's gini: 0.298463\n",
      "[2200]\tvalid_0's binary_logloss: 0.151359\tvalid_0's gini: 0.298466\n",
      "[2300]\tvalid_0's binary_logloss: 0.151362\tvalid_0's gini: 0.298415\n",
      "[2400]\tvalid_0's binary_logloss: 0.151359\tvalid_0's gini: 0.298569\n",
      "[2500]\tvalid_0's binary_logloss: 0.151361\tvalid_0's gini: 0.298542\n",
      "Did not meet early stopping. Best iteration is:\n",
      "[2458]\tvalid_0's binary_logloss: 0.151355\tvalid_0's gini: 0.29865\n",
      "폴드 1 지니계수 : 0.2986504843987991\n",
      "\n",
      "######################################## 폴드 2 / 폴드 5 ########################################\n",
      "[LightGBM] [Info] Number of positive: 17355, number of negative: 458814\n",
      "[LightGBM] [Info] Total Bins 1560\n",
      "[LightGBM] [Info] Number of data points in the train set: 476169, number of used features: 216\n",
      "[LightGBM] [Info] [binary:BoostFromScore]: pavg=0.036447 -> initscore=-3.274764\n",
      "[LightGBM] [Info] Start training from score -3.274764\n",
      "Training until validation scores don't improve for 300 rounds\n",
      "[100]\tvalid_0's binary_logloss: 0.154347\tvalid_0's gini: 0.258575\n",
      "[200]\tvalid_0's binary_logloss: 0.153338\tvalid_0's gini: 0.263768\n",
      "[300]\tvalid_0's binary_logloss: 0.152804\tvalid_0's gini: 0.267635\n",
      "[400]\tvalid_0's binary_logloss: 0.152483\tvalid_0's gini: 0.271009\n",
      "[500]\tvalid_0's binary_logloss: 0.152299\tvalid_0's gini: 0.27324\n",
      "[600]\tvalid_0's binary_logloss: 0.152157\tvalid_0's gini: 0.275756\n",
      "[700]\tvalid_0's binary_logloss: 0.15206\tvalid_0's gini: 0.277655\n",
      "[800]\tvalid_0's binary_logloss: 0.151986\tvalid_0's gini: 0.279371\n",
      "[900]\tvalid_0's binary_logloss: 0.151942\tvalid_0's gini: 0.280359\n",
      "[1000]\tvalid_0's binary_logloss: 0.151898\tvalid_0's gini: 0.281475\n",
      "[1100]\tvalid_0's binary_logloss: 0.15186\tvalid_0's gini: 0.282482\n",
      "[1200]\tvalid_0's binary_logloss: 0.151835\tvalid_0's gini: 0.283198\n",
      "[1300]\tvalid_0's binary_logloss: 0.15181\tvalid_0's gini: 0.283848\n",
      "[1400]\tvalid_0's binary_logloss: 0.151796\tvalid_0's gini: 0.284221\n",
      "[1500]\tvalid_0's binary_logloss: 0.151781\tvalid_0's gini: 0.284645\n",
      "[1600]\tvalid_0's binary_logloss: 0.15177\tvalid_0's gini: 0.284943\n",
      "[1700]\tvalid_0's binary_logloss: 0.151761\tvalid_0's gini: 0.285129\n",
      "[1800]\tvalid_0's binary_logloss: 0.151755\tvalid_0's gini: 0.28522\n",
      "[1900]\tvalid_0's binary_logloss: 0.151752\tvalid_0's gini: 0.285325\n",
      "[2000]\tvalid_0's binary_logloss: 0.151749\tvalid_0's gini: 0.285504\n",
      "[2100]\tvalid_0's binary_logloss: 0.151748\tvalid_0's gini: 0.285633\n",
      "[2200]\tvalid_0's binary_logloss: 0.151744\tvalid_0's gini: 0.285711\n",
      "[2300]\tvalid_0's binary_logloss: 0.15174\tvalid_0's gini: 0.285853\n",
      "[2400]\tvalid_0's binary_logloss: 0.15174\tvalid_0's gini: 0.28594\n",
      "[2500]\tvalid_0's binary_logloss: 0.151745\tvalid_0's gini: 0.285916\n",
      "Did not meet early stopping. Best iteration is:\n",
      "[2334]\tvalid_0's binary_logloss: 0.151736\tvalid_0's gini: 0.285929\n",
      "폴드 2 지니계수 : 0.2859292916021393\n",
      "\n",
      "######################################## 폴드 3 / 폴드 5 ########################################\n",
      "[LightGBM] [Info] Number of positive: 17356, number of negative: 458814\n",
      "[LightGBM] [Info] Total Bins 1558\n",
      "[LightGBM] [Info] Number of data points in the train set: 476170, number of used features: 217\n",
      "[LightGBM] [Info] [binary:BoostFromScore]: pavg=0.036449 -> initscore=-3.274707\n",
      "[LightGBM] [Info] Start training from score -3.274707\n",
      "Training until validation scores don't improve for 300 rounds\n",
      "[100]\tvalid_0's binary_logloss: 0.15424\tvalid_0's gini: 0.263985\n",
      "[200]\tvalid_0's binary_logloss: 0.153171\tvalid_0's gini: 0.268713\n",
      "[300]\tvalid_0's binary_logloss: 0.152574\tvalid_0's gini: 0.272773\n",
      "[400]\tvalid_0's binary_logloss: 0.152223\tvalid_0's gini: 0.275785\n",
      "[500]\tvalid_0's binary_logloss: 0.152001\tvalid_0's gini: 0.278098\n",
      "[600]\tvalid_0's binary_logloss: 0.151847\tvalid_0's gini: 0.280206\n",
      "[700]\tvalid_0's binary_logloss: 0.151748\tvalid_0's gini: 0.281603\n",
      "[800]\tvalid_0's binary_logloss: 0.151682\tvalid_0's gini: 0.282672\n",
      "[900]\tvalid_0's binary_logloss: 0.151637\tvalid_0's gini: 0.283423\n",
      "[1000]\tvalid_0's binary_logloss: 0.151608\tvalid_0's gini: 0.283963\n",
      "[1100]\tvalid_0's binary_logloss: 0.151589\tvalid_0's gini: 0.284105\n",
      "[1200]\tvalid_0's binary_logloss: 0.151574\tvalid_0's gini: 0.284387\n",
      "[1300]\tvalid_0's binary_logloss: 0.151575\tvalid_0's gini: 0.284318\n",
      "[1400]\tvalid_0's binary_logloss: 0.151572\tvalid_0's gini: 0.284372\n",
      "[1500]\tvalid_0's binary_logloss: 0.151569\tvalid_0's gini: 0.284466\n",
      "[1600]\tvalid_0's binary_logloss: 0.151574\tvalid_0's gini: 0.284435\n",
      "[1700]\tvalid_0's binary_logloss: 0.151579\tvalid_0's gini: 0.284362\n",
      "Early stopping, best iteration is:\n",
      "[1478]\tvalid_0's binary_logloss: 0.151568\tvalid_0's gini: 0.284492\n",
      "폴드 3 지니계수 : 0.2844916047790675\n",
      "\n",
      "######################################## 폴드 4 / 폴드 5 ########################################\n",
      "[LightGBM] [Info] Number of positive: 17355, number of negative: 458815\n",
      "[LightGBM] [Info] Total Bins 1555\n",
      "[LightGBM] [Info] Number of data points in the train set: 476170, number of used features: 216\n",
      "[LightGBM] [Info] [binary:BoostFromScore]: pavg=0.036447 -> initscore=-3.274766\n",
      "[LightGBM] [Info] Start training from score -3.274766\n",
      "Training until validation scores don't improve for 300 rounds\n",
      "[100]\tvalid_0's binary_logloss: 0.154327\tvalid_0's gini: 0.256916\n",
      "[200]\tvalid_0's binary_logloss: 0.15331\tvalid_0's gini: 0.261871\n",
      "[300]\tvalid_0's binary_logloss: 0.152761\tvalid_0's gini: 0.265441\n",
      "[400]\tvalid_0's binary_logloss: 0.152441\tvalid_0's gini: 0.268613\n",
      "[500]\tvalid_0's binary_logloss: 0.152245\tvalid_0's gini: 0.271168\n",
      "[600]\tvalid_0's binary_logloss: 0.152098\tvalid_0's gini: 0.273746\n",
      "[700]\tvalid_0's binary_logloss: 0.152012\tvalid_0's gini: 0.275192\n",
      "[800]\tvalid_0's binary_logloss: 0.151952\tvalid_0's gini: 0.276278\n",
      "[900]\tvalid_0's binary_logloss: 0.151911\tvalid_0's gini: 0.277039\n",
      "[1000]\tvalid_0's binary_logloss: 0.151871\tvalid_0's gini: 0.277996\n",
      "[1100]\tvalid_0's binary_logloss: 0.151844\tvalid_0's gini: 0.278535\n",
      "[1200]\tvalid_0's binary_logloss: 0.151827\tvalid_0's gini: 0.279055\n",
      "[1300]\tvalid_0's binary_logloss: 0.151817\tvalid_0's gini: 0.27936\n",
      "[1400]\tvalid_0's binary_logloss: 0.151799\tvalid_0's gini: 0.279872\n",
      "[1500]\tvalid_0's binary_logloss: 0.151797\tvalid_0's gini: 0.280053\n",
      "[1600]\tvalid_0's binary_logloss: 0.151792\tvalid_0's gini: 0.280148\n",
      "[1700]\tvalid_0's binary_logloss: 0.151794\tvalid_0's gini: 0.280162\n",
      "[1800]\tvalid_0's binary_logloss: 0.151793\tvalid_0's gini: 0.280319\n",
      "[1900]\tvalid_0's binary_logloss: 0.151795\tvalid_0's gini: 0.280422\n",
      "[2000]\tvalid_0's binary_logloss: 0.151797\tvalid_0's gini: 0.280419\n",
      "[2100]\tvalid_0's binary_logloss: 0.151799\tvalid_0's gini: 0.280516\n",
      "Early stopping, best iteration is:\n",
      "[1852]\tvalid_0's binary_logloss: 0.15179\tvalid_0's gini: 0.280514\n",
      "폴드 4 지니계수 : 0.2805136229288192\n",
      "\n",
      "######################################## 폴드 5 / 폴드 5 ########################################\n",
      "[LightGBM] [Info] Number of positive: 17355, number of negative: 458815\n",
      "[LightGBM] [Info] Total Bins 1558\n",
      "[LightGBM] [Info] Number of data points in the train set: 476170, number of used features: 217\n",
      "[LightGBM] [Info] [binary:BoostFromScore]: pavg=0.036447 -> initscore=-3.274766\n",
      "[LightGBM] [Info] Start training from score -3.274766\n",
      "Training until validation scores don't improve for 300 rounds\n",
      "[100]\tvalid_0's binary_logloss: 0.15439\tvalid_0's gini: 0.26681\n",
      "[200]\tvalid_0's binary_logloss: 0.15338\tvalid_0's gini: 0.272186\n",
      "[300]\tvalid_0's binary_logloss: 0.152821\tvalid_0's gini: 0.275897\n",
      "[400]\tvalid_0's binary_logloss: 0.1525\tvalid_0's gini: 0.278734\n",
      "[500]\tvalid_0's binary_logloss: 0.152277\tvalid_0's gini: 0.282151\n",
      "[600]\tvalid_0's binary_logloss: 0.15212\tvalid_0's gini: 0.285039\n",
      "[700]\tvalid_0's binary_logloss: 0.152009\tvalid_0's gini: 0.287435\n",
      "[800]\tvalid_0's binary_logloss: 0.15192\tvalid_0's gini: 0.289549\n",
      "[900]\tvalid_0's binary_logloss: 0.151862\tvalid_0's gini: 0.290886\n",
      "[1000]\tvalid_0's binary_logloss: 0.151819\tvalid_0's gini: 0.291935\n",
      "[1100]\tvalid_0's binary_logloss: 0.151782\tvalid_0's gini: 0.292972\n",
      "[1200]\tvalid_0's binary_logloss: 0.151752\tvalid_0's gini: 0.293784\n",
      "[1300]\tvalid_0's binary_logloss: 0.151732\tvalid_0's gini: 0.294315\n",
      "[1400]\tvalid_0's binary_logloss: 0.151724\tvalid_0's gini: 0.294475\n",
      "[1500]\tvalid_0's binary_logloss: 0.151713\tvalid_0's gini: 0.294786\n",
      "[1600]\tvalid_0's binary_logloss: 0.1517\tvalid_0's gini: 0.295146\n",
      "[1700]\tvalid_0's binary_logloss: 0.151694\tvalid_0's gini: 0.295268\n",
      "[1800]\tvalid_0's binary_logloss: 0.151695\tvalid_0's gini: 0.295212\n",
      "[1900]\tvalid_0's binary_logloss: 0.151689\tvalid_0's gini: 0.295454\n",
      "[2000]\tvalid_0's binary_logloss: 0.151693\tvalid_0's gini: 0.2954\n",
      "[2100]\tvalid_0's binary_logloss: 0.151694\tvalid_0's gini: 0.295427\n",
      "[2200]\tvalid_0's binary_logloss: 0.151692\tvalid_0's gini: 0.295538\n",
      "[2300]\tvalid_0's binary_logloss: 0.151699\tvalid_0's gini: 0.295411\n",
      "Early stopping, best iteration is:\n",
      "[2045]\tvalid_0's binary_logloss: 0.151689\tvalid_0's gini: 0.295553\n",
      "폴드 5 지니계수 : 0.29555250456072807\n",
      "\n"
     ]
    }
   ],
   "source": [
    "import lightgbm as lgb\n",
    "\n",
    "# OOF 방식으로 훈련된 모델로 검증 데이터 타깃값을 예측한 확률을 담을 1차원 배열\n",
    "oof_val_preds_lgb = np.zeros(X.shape[0]) \n",
    "# OOF 방식으로 훈련된 모델로 테스트 데이터 타깃값을 예측한 확률을 담을 1차원 배열\n",
    "oof_test_preds_lgb = np.zeros(X_test.shape[0]) \n",
    "\n",
    "# OOF 방식으로 모델 훈련, 검증, 예측\n",
    "for idx, (train_idx, valid_idx) in enumerate(folds.split(X, y)):\n",
    "    # 각 폴드를 구분하는 문구 출력\n",
    "    print('#'*40, f'폴드 {idx+1} / 폴드 {folds.n_splits}', '#'*40)\n",
    "    \n",
    "    # 훈련용 데이터, 검증용 데이터 설정\n",
    "    X_train, y_train = X[train_idx], y[train_idx] # 훈련용 데이터\n",
    "    X_valid, y_valid = X[valid_idx], y[valid_idx] # 검증용 데이터\n",
    "\n",
    "    # LightGBM 전용 데이터셋 생성\n",
    "    dtrain = lgb.Dataset(X_train, y_train) # LightGBM 전용 훈련 데이터셋\n",
    "    dvalid = lgb.Dataset(X_valid, y_valid) # LightGBM 전용 검증 데이터셋\n",
    "                          \n",
    "    # LightGBM 모델 훈련\n",
    "    lgb_model = lgb.train(params=max_params_lgb,     # 최적 하이퍼파라미터\n",
    "                          train_set=dtrain,          # 훈련 데이터셋\n",
    "                          num_boost_round=2500,      # 부스팅 반복 횟수\n",
    "                          valid_sets=dvalid,         # 성능 평가용 검증 데이터셋\n",
    "                          feval=gini_lgb,            # 검증용 평가지표\n",
    "                          callbacks=[lgb.early_stopping(stopping_rounds=300),   # 조기종료 조건\n",
    "                                      lgb.log_evaluation(100)])     # 100번째마다 점수 출력\n",
    "    \n",
    "    # 테스트 데이터를 활용해 OOF 예측\n",
    "    oof_test_preds_lgb += lgb_model.predict(X_test)/folds.n_splits\n",
    "    \n",
    "    # 모델 성능 평가를 위한 검증 데이터 타깃값 예측 \n",
    "    oof_val_preds_lgb[valid_idx] += lgb_model.predict(X_valid)\n",
    "    \n",
    "    # 검증 데이터 예측확률에 대한 정규화 지니계수\n",
    "    gini_score = eval_gini(y_valid, oof_val_preds_lgb[valid_idx])\n",
    "    print(f'폴드 {idx+1} 지니계수 : {gini_score}\\n')"
   ]
  },
  {
   "cell_type": "code",
   "execution_count": 33,
   "id": "292fd2cc",
   "metadata": {
    "execution": {
     "iopub.execute_input": "2022-03-05T06:11:59.503187Z",
     "iopub.status.busy": "2022-03-05T06:11:59.502013Z",
     "iopub.status.idle": "2022-03-05T06:11:59.506652Z",
     "shell.execute_reply": "2022-03-05T06:11:59.504861Z"
    },
    "papermill": {
     "duration": 0.077971,
     "end_time": "2022-03-05T06:11:59.506826",
     "exception": false,
     "start_time": "2022-03-05T06:11:59.428855",
     "status": "completed"
    },
    "tags": []
   },
   "outputs": [],
   "source": [
    "max_params_xgb = {\n",
    "    'colsample_bytree': 0.8843124587484356,\n",
    "    'gamma': 10.452246227672624,\n",
    "    'max_depth': 7,\n",
    "    'min_child_weight': 6.494091293383359,\n",
    "    'reg_alpha': 8.551838810159788,\n",
    "    'reg_lambda': 1.3814765995549108,\n",
    "    'scale_pos_weight': 1.423280772455086,\n",
    "    'subsample': 0.7001630536555632,\n",
    "    'objective': 'binary:logistic',\n",
    "    'learning_rate': 0.02,\n",
    "    'random_state': 1991\n",
    "}"
   ]
  },
  {
   "cell_type": "code",
   "execution_count": 35,
   "id": "9a7cbd3c",
   "metadata": {
    "execution": {
     "iopub.execute_input": "2022-03-05T06:11:59.680738Z",
     "iopub.status.busy": "2022-03-05T06:11:59.679579Z",
     "iopub.status.idle": "2022-03-05T07:50:08.115117Z",
     "shell.execute_reply": "2022-03-05T07:50:08.115963Z"
    },
    "papermill": {
     "duration": 5888.532753,
     "end_time": "2022-03-05T07:50:08.116260",
     "exception": false,
     "start_time": "2022-03-05T06:11:59.583507",
     "status": "completed"
    },
    "tags": []
   },
   "outputs": [
    {
     "name": "stdout",
     "output_type": "stream",
     "text": [
      "######################################## 폴드 1 / 폴드 5 ########################################\n"
     ]
    },
    {
     "name": "stderr",
     "output_type": "stream",
     "text": [
      "c:\\Users\\Hi\\anaconda3\\envs\\tf_python_310\\lib\\site-packages\\xgboost\\training.py:38: UserWarning: `feval` is deprecated, use `custom_metric` instead.  They have different behavior when custom objective is also used.See https://xgboost.readthedocs.io/en/latest/tutorials/custom_metric_obj.html for details on the `custom_metric`.\n",
      "  warnings.warn(\n"
     ]
    },
    {
     "name": "stdout",
     "output_type": "stream",
     "text": [
      "[0]\tvalid-logloss:0.21743\tvalid-gini:0.20267\n",
      "[100]\tvalid-logloss:0.16011\tvalid-gini:0.27125\n",
      "[200]\tvalid-logloss:0.15495\tvalid-gini:0.28427\n",
      "[300]\tvalid-logloss:0.15424\tvalid-gini:0.28900\n",
      "[400]\tvalid-logloss:0.15412\tvalid-gini:0.29046\n",
      "[500]\tvalid-logloss:0.15409\tvalid-gini:0.29052\n",
      "[600]\tvalid-logloss:0.15407\tvalid-gini:0.29069\n",
      "[700]\tvalid-logloss:0.15406\tvalid-gini:0.29108\n",
      "[800]\tvalid-logloss:0.15405\tvalid-gini:0.29147\n",
      "[900]\tvalid-logloss:0.15406\tvalid-gini:0.29156\n",
      "[1000]\tvalid-logloss:0.15403\tvalid-gini:0.29173\n",
      "[1100]\tvalid-logloss:0.15402\tvalid-gini:0.29177\n",
      "[1200]\tvalid-logloss:0.15403\tvalid-gini:0.29175\n",
      "[1300]\tvalid-logloss:0.15403\tvalid-gini:0.29184\n",
      "[1400]\tvalid-logloss:0.15402\tvalid-gini:0.29192\n",
      "[1500]\tvalid-logloss:0.15402\tvalid-gini:0.29188\n",
      "[1538]\tvalid-logloss:0.15402\tvalid-gini:0.29191\n",
      "폴드 1 지니계수 : 0.2919054822383036\n",
      "\n",
      "######################################## 폴드 2 / 폴드 5 ########################################\n",
      "[0]\tvalid-logloss:0.21743\tvalid-gini:0.19428\n",
      "[100]\tvalid-logloss:0.16032\tvalid-gini:0.25897\n",
      "[200]\tvalid-logloss:0.15525\tvalid-gini:0.27058\n",
      "[300]\tvalid-logloss:0.15460\tvalid-gini:0.27418\n",
      "[400]\tvalid-logloss:0.15452\tvalid-gini:0.27542\n",
      "[500]\tvalid-logloss:0.15448\tvalid-gini:0.27587\n",
      "[600]\tvalid-logloss:0.15448\tvalid-gini:0.27615\n",
      "[700]\tvalid-logloss:0.15447\tvalid-gini:0.27636\n",
      "[800]\tvalid-logloss:0.15447\tvalid-gini:0.27643\n",
      "[900]\tvalid-logloss:0.15448\tvalid-gini:0.27657\n",
      "[1000]\tvalid-logloss:0.15445\tvalid-gini:0.27672\n",
      "[1100]\tvalid-logloss:0.15444\tvalid-gini:0.27686\n",
      "[1200]\tvalid-logloss:0.15444\tvalid-gini:0.27693\n",
      "[1300]\tvalid-logloss:0.15445\tvalid-gini:0.27702\n",
      "[1400]\tvalid-logloss:0.15445\tvalid-gini:0.27703\n",
      "[1500]\tvalid-logloss:0.15444\tvalid-gini:0.27713\n",
      "[1600]\tvalid-logloss:0.15444\tvalid-gini:0.27716\n",
      "[1700]\tvalid-logloss:0.15445\tvalid-gini:0.27718\n",
      "[1800]\tvalid-logloss:0.15444\tvalid-gini:0.27726\n",
      "[1900]\tvalid-logloss:0.15443\tvalid-gini:0.27729\n",
      "[1999]\tvalid-logloss:0.15443\tvalid-gini:0.27736\n",
      "폴드 2 지니계수 : 0.2773585534514546\n",
      "\n",
      "######################################## 폴드 3 / 폴드 5 ########################################\n",
      "[0]\tvalid-logloss:0.21743\tvalid-gini:0.19421\n",
      "[100]\tvalid-logloss:0.16014\tvalid-gini:0.26395\n",
      "[200]\tvalid-logloss:0.15496\tvalid-gini:0.27739\n",
      "[300]\tvalid-logloss:0.15429\tvalid-gini:0.28012\n",
      "[400]\tvalid-logloss:0.15418\tvalid-gini:0.28113\n",
      "[500]\tvalid-logloss:0.15414\tvalid-gini:0.28133\n",
      "[600]\tvalid-logloss:0.15412\tvalid-gini:0.28183\n",
      "[700]\tvalid-logloss:0.15411\tvalid-gini:0.28184\n",
      "[800]\tvalid-logloss:0.15413\tvalid-gini:0.28184\n",
      "[855]\tvalid-logloss:0.15412\tvalid-gini:0.28183\n",
      "폴드 3 지니계수 : 0.28186331112498947\n",
      "\n",
      "######################################## 폴드 4 / 폴드 5 ########################################\n",
      "[0]\tvalid-logloss:0.21743\tvalid-gini:0.20260\n",
      "[100]\tvalid-logloss:0.16018\tvalid-gini:0.25831\n",
      "[200]\tvalid-logloss:0.15513\tvalid-gini:0.26937\n",
      "[300]\tvalid-logloss:0.15451\tvalid-gini:0.27209\n",
      "[400]\tvalid-logloss:0.15440\tvalid-gini:0.27284\n",
      "[500]\tvalid-logloss:0.15439\tvalid-gini:0.27296\n",
      "[600]\tvalid-logloss:0.15437\tvalid-gini:0.27323\n",
      "[700]\tvalid-logloss:0.15437\tvalid-gini:0.27348\n",
      "[800]\tvalid-logloss:0.15437\tvalid-gini:0.27369\n",
      "[900]\tvalid-logloss:0.15437\tvalid-gini:0.27371\n",
      "[1000]\tvalid-logloss:0.15435\tvalid-gini:0.27382\n",
      "[1100]\tvalid-logloss:0.15436\tvalid-gini:0.27386\n",
      "[1200]\tvalid-logloss:0.15436\tvalid-gini:0.27393\n",
      "[1300]\tvalid-logloss:0.15435\tvalid-gini:0.27390\n",
      "[1390]\tvalid-logloss:0.15434\tvalid-gini:0.27386\n",
      "폴드 4 지니계수 : 0.273910998220226\n",
      "\n",
      "######################################## 폴드 5 / 폴드 5 ########################################\n",
      "[0]\tvalid-logloss:0.21744\tvalid-gini:0.19485\n",
      "[100]\tvalid-logloss:0.16033\tvalid-gini:0.26536\n",
      "[200]\tvalid-logloss:0.15523\tvalid-gini:0.27779\n",
      "[300]\tvalid-logloss:0.15456\tvalid-gini:0.28193\n",
      "[400]\tvalid-logloss:0.15445\tvalid-gini:0.28360\n",
      "[500]\tvalid-logloss:0.15440\tvalid-gini:0.28448\n",
      "[600]\tvalid-logloss:0.15438\tvalid-gini:0.28478\n",
      "[700]\tvalid-logloss:0.15437\tvalid-gini:0.28497\n",
      "[800]\tvalid-logloss:0.15437\tvalid-gini:0.28511\n",
      "[900]\tvalid-logloss:0.15436\tvalid-gini:0.28540\n",
      "[1000]\tvalid-logloss:0.15436\tvalid-gini:0.28567\n",
      "[1100]\tvalid-logloss:0.15435\tvalid-gini:0.28573\n",
      "[1200]\tvalid-logloss:0.15436\tvalid-gini:0.28580\n",
      "[1300]\tvalid-logloss:0.15433\tvalid-gini:0.28594\n",
      "[1400]\tvalid-logloss:0.15434\tvalid-gini:0.28608\n",
      "[1500]\tvalid-logloss:0.15433\tvalid-gini:0.28618\n",
      "[1600]\tvalid-logloss:0.15434\tvalid-gini:0.28623\n",
      "[1700]\tvalid-logloss:0.15432\tvalid-gini:0.28628\n",
      "[1800]\tvalid-logloss:0.15433\tvalid-gini:0.28628\n",
      "[1900]\tvalid-logloss:0.15432\tvalid-gini:0.28629\n",
      "[1999]\tvalid-logloss:0.15431\tvalid-gini:0.28637\n",
      "폴드 5 지니계수 : 0.28637616179104664\n",
      "\n"
     ]
    }
   ],
   "source": [
    "import xgboost as xgb\n",
    "\n",
    "# OOF 방식으로 훈련된 모델로 검증 데이터 타깃값을 예측한 확률을 담을 1차원 배열\n",
    "oof_val_preds_xgb = np.zeros(X.shape[0]) \n",
    "# OOF 방식으로 훈련된 모델로 테스트 데이터 타깃값을 예측한 확률을 담을 1차원 배열\n",
    "oof_test_preds_xgb = np.zeros(X_test.shape[0]) \n",
    "\n",
    "# OOF 방식으로 모델 훈련, 검증, 예측\n",
    "for idx, (train_idx, valid_idx) in enumerate(folds.split(X, y)):\n",
    "    # 각 폴드를 구분하는 문구 출력\n",
    "    print('#'*40, f'폴드 {idx+1} / 폴드 {folds.n_splits}', '#'*40)\n",
    "    \n",
    "    # 훈련용 데이터, 검증용 데이터 설정\n",
    "    X_train, y_train = X[train_idx], y[train_idx]\n",
    "    X_valid, y_valid = X[valid_idx], y[valid_idx]\n",
    "\n",
    "    # XGBoost 전용 데이터셋 생성 \n",
    "    dtrain = xgb.DMatrix(X_train, y_train)\n",
    "    dvalid = xgb.DMatrix(X_valid, y_valid)\n",
    "    dtest = xgb.DMatrix(X_test)\n",
    "\n",
    "    # XGBoost 모델 훈련\n",
    "    xgb_model = xgb.train(params=max_params_xgb, \n",
    "                          dtrain=dtrain,\n",
    "                          num_boost_round=2000,\n",
    "                          evals=[(dvalid, 'valid')],\n",
    "                          maximize=True,\n",
    "                          feval=gini_xgb,\n",
    "                          early_stopping_rounds=200,\n",
    "                          verbose_eval=100)\n",
    "\n",
    "    # 모델 성능이 가장 좋을 때의 부스팅 반복 횟수 저장\n",
    "    best_iter = xgb_model.best_iteration\n",
    "\n",
    "    # 테스트 데이터를 활용해 OOF 예측\n",
    "    oof_test_preds_xgb += xgb_model.predict(dtest,\n",
    "                                            iteration_range=(0, best_iter))/folds.n_splits\n",
    "    \n",
    "    # 모델 성능 평가를 위한 검증 데이터 타깃값 예측 \n",
    "    oof_val_preds_xgb[valid_idx] += xgb_model.predict(dvalid, \n",
    "                                                      iteration_range=(0, best_iter))\n",
    "    \n",
    "    # 검증 데이터 예측확률에 대한 정규화 지니계수\n",
    "    gini_score = eval_gini(y_valid, oof_val_preds_xgb[valid_idx])\n",
    "    print(f'폴드 {idx+1} 지니계수 : {gini_score}\\n')"
   ]
  },
  {
   "cell_type": "code",
   "execution_count": 36,
   "id": "009491a9",
   "metadata": {
    "execution": {
     "iopub.execute_input": "2022-03-05T07:50:08.307229Z",
     "iopub.status.busy": "2022-03-05T07:50:08.305916Z",
     "iopub.status.idle": "2022-03-05T07:50:08.417603Z",
     "shell.execute_reply": "2022-03-05T07:50:08.418089Z"
    },
    "papermill": {
     "duration": 0.213256,
     "end_time": "2022-03-05T07:50:08.418280",
     "exception": false,
     "start_time": "2022-03-05T07:50:08.205024",
     "status": "completed"
    },
    "tags": []
   },
   "outputs": [
    {
     "name": "stdout",
     "output_type": "stream",
     "text": [
      "LightGBM OOF 검증 데이터 지니계수 : 0.2889651000887542\n"
     ]
    }
   ],
   "source": [
    "print('LightGBM OOF 검증 데이터 지니계수 :', eval_gini(y, oof_val_preds_lgb))"
   ]
  },
  {
   "cell_type": "code",
   "execution_count": 37,
   "id": "522c17ce",
   "metadata": {
    "execution": {
     "iopub.execute_input": "2022-03-05T07:50:08.618480Z",
     "iopub.status.busy": "2022-03-05T07:50:08.617276Z",
     "iopub.status.idle": "2022-03-05T07:50:08.735230Z",
     "shell.execute_reply": "2022-03-05T07:50:08.735805Z"
    },
    "papermill": {
     "duration": 0.229108,
     "end_time": "2022-03-05T07:50:08.735986",
     "exception": false,
     "start_time": "2022-03-05T07:50:08.506878",
     "status": "completed"
    },
    "tags": []
   },
   "outputs": [
    {
     "name": "stdout",
     "output_type": "stream",
     "text": [
      "XGBoost OOF 검증 데이터 지니계수 : 0.282162170194133\n"
     ]
    }
   ],
   "source": [
    "print('XGBoost OOF 검증 데이터 지니계수 :', eval_gini(y, oof_val_preds_xgb))"
   ]
  },
  {
   "cell_type": "markdown",
   "id": "8f15fa8f",
   "metadata": {
    "papermill": {
     "duration": 0.090336,
     "end_time": "2022-03-05T07:50:08.917122",
     "exception": false,
     "start_time": "2022-03-05T07:50:08.826786",
     "status": "completed"
    },
    "tags": []
   },
   "source": [
    "## 8.6.1 앙상블 수행"
   ]
  },
  {
   "cell_type": "code",
   "execution_count": 38,
   "id": "b8756913",
   "metadata": {
    "execution": {
     "iopub.execute_input": "2022-03-05T07:50:09.102627Z",
     "iopub.status.busy": "2022-03-05T07:50:09.101487Z",
     "iopub.status.idle": "2022-03-05T07:50:09.115242Z",
     "shell.execute_reply": "2022-03-05T07:50:09.115739Z"
    },
    "papermill": {
     "duration": 0.108448,
     "end_time": "2022-03-05T07:50:09.115924",
     "exception": false,
     "start_time": "2022-03-05T07:50:09.007476",
     "status": "completed"
    },
    "tags": []
   },
   "outputs": [],
   "source": [
    "oof_test_preds = oof_test_preds_lgb * 0.5 + oof_test_preds_xgb * 0.5"
   ]
  },
  {
   "cell_type": "markdown",
   "id": "b64bdf68",
   "metadata": {
    "papermill": {
     "duration": 0.090811,
     "end_time": "2022-03-05T07:50:09.296483",
     "exception": false,
     "start_time": "2022-03-05T07:50:09.205672",
     "status": "completed"
    },
    "tags": []
   },
   "source": [
    "## 8.6.2 예측 및 결과 제출"
   ]
  },
  {
   "cell_type": "code",
   "execution_count": 39,
   "id": "8b44cfdc",
   "metadata": {
    "execution": {
     "iopub.execute_input": "2022-03-05T07:50:09.487417Z",
     "iopub.status.busy": "2022-03-05T07:50:09.486425Z",
     "iopub.status.idle": "2022-03-05T07:50:13.294960Z",
     "shell.execute_reply": "2022-03-05T07:50:13.294387Z"
    },
    "papermill": {
     "duration": 3.90824,
     "end_time": "2022-03-05T07:50:13.295111",
     "exception": false,
     "start_time": "2022-03-05T07:50:09.386871",
     "status": "completed"
    },
    "tags": []
   },
   "outputs": [],
   "source": [
    "submission['target'] = oof_test_preds\n",
    "submission.to_csv('output/ensemble_submission.csv')"
   ]
  },
  {
   "cell_type": "code",
   "execution_count": null,
   "id": "d86d708c",
   "metadata": {},
   "outputs": [],
   "source": []
  }
 ],
 "metadata": {
  "kernelspec": {
   "display_name": "tf_kernel",
   "language": "python",
   "name": "tf_env"
  },
  "language_info": {
   "codemirror_mode": {
    "name": "ipython",
    "version": 3
   },
   "file_extension": ".py",
   "mimetype": "text/x-python",
   "name": "python",
   "nbconvert_exporter": "python",
   "pygments_lexer": "ipython3",
   "version": "3.11.5"
  },
  "papermill": {
   "default_parameters": {},
   "duration": 7375.075751,
   "end_time": "2022-03-05T07:50:16.102128",
   "environment_variables": {},
   "exception": null,
   "input_path": "__notebook__.ipynb",
   "output_path": "__notebook__.ipynb",
   "parameters": {},
   "start_time": "2022-03-05T05:47:21.026377",
   "version": "2.3.3"
  }
 },
 "nbformat": 4,
 "nbformat_minor": 5
}
